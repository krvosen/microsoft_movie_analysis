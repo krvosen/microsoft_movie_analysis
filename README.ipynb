{
 "metadata": {
  "language_info": {
   "codemirror_mode": {
    "name": "ipython",
    "version": 3
   },
   "file_extension": ".py",
   "mimetype": "text/x-python",
   "name": "python",
   "nbconvert_exporter": "python",
   "pygments_lexer": "ipython3",
   "version": "3.9.2"
  },
  "orig_nbformat": 2,
  "kernelspec": {
   "name": "python392jvsc74a57bd03e4b7296bcf7107592fe3786d118e7d736cf1e2d17f08606f93eeea3963787ff",
   "display_name": "Python 3.9.2 64-bit"
  },
  "metadata": {
   "interpreter": {
    "hash": "3e4b7296bcf7107592fe3786d118e7d736cf1e2d17f08606f93eeea3963787ff"
   }
  }
 },
 "nbformat": 4,
 "nbformat_minor": 2,
 "cells": [
  {
   "source": [
    "## Overview"
   ],
   "cell_type": "markdown",
   "metadata": {}
  },
  {
   "source": [
    "This project analyzes movie data that helped us come to 3 informed decisions to help Microsoft with its journey to creating a new movie studio. The analysis of the movie industry allowed us to make an informed decision about what genre of movie Microsoft should produce and when to release it. What Microsofts worldwide gross should be compared to its budget. Lastly, what the runtime should be for each of Microsofts movies. Microsoft can use our informed decisions to create the best chance of making a succesful movie.  \n"
   ],
   "cell_type": "markdown",
   "metadata": {}
  },
  {
   "source": [
    "## Buisness Problem"
   ],
   "cell_type": "markdown",
   "metadata": {}
  },
  {
   "source": [
    "Microsoft has decided to enter the movie production industry and create a new movie studio, but they want some advice. This project asks and analyzes which genre of films are doing best at the box office, what the average runtime is, and how much money Microsoft should expect to make compared to their production budget. The results will inform decisions and actions Microsoft's studio can take to create a successful production company."
   ],
   "cell_type": "markdown",
   "metadata": {}
  },
  {
   "source": [
    "## Data"
   ],
   "cell_type": "markdown",
   "metadata": {}
  },
  {
   "source": [
    "The data being used for this project comes from the movie database that was provided to us. We used this data to create unique effective visualizations that will help us explain the path that we believe Microsoft should follow in order to have the best chance of success in their new fight between giants like Disney and Netflix.  "
   ],
   "cell_type": "markdown",
   "metadata": {}
  },
  {
   "source": [
    "## Methods"
   ],
   "cell_type": "markdown",
   "metadata": {}
  },
  {
   "source": [
    "To gather the data relevent to our proposal we used the movie data provided to us and used a number of SQL queries to search though the data. We then cleaned up that data and used seaborn as well as matplot lib to create visualizations that are key to explaining the path we think Microsoft should follow as well as being visually appealing and easy to read.  "
   ],
   "cell_type": "markdown",
   "metadata": {}
  },
  {
   "source": [
    "## Results"
   ],
   "cell_type": "markdown",
   "metadata": {}
  },
  {
   "source": [],
   "cell_type": "markdown",
   "metadata": {}
  },
  {
   "source": [
    "As you can see The genres of Animation, Adventure, Sci-Fi, Musical, Fantasy, Action, Family, and  Comedy are all above the average line for the average worldwide gross earned by each genre."
   ],
   "cell_type": "markdown",
   "metadata": {}
  },
  {
   "source": [
    "![graph1](./images/AvgWorldGrossGenre.jpg)"
   ],
   "cell_type": "markdown",
   "metadata": {}
  },
  {
   "source": [
    "The graph belows shows how the genres for Musical, Horror, Mystery, Fantasy, Family, Animation, Documentary, Biography, Thriller, History, and Romance are all above the average line for Return on investment for each genre. "
   ],
   "cell_type": "markdown",
   "metadata": {}
  },
  {
   "source": [
    "![graph1](./images/AvgROIGenre.jpg)"
   ],
   "cell_type": "markdown",
   "metadata": {}
  },
  {
   "source": [
    "From the graph below we can see the average popularity rating for each genre based on rottentomatoes metrics "
   ],
   "cell_type": "markdown",
   "metadata": {}
  },
  {
   "source": [
    "![graph2](./images/GenrePopularity.jpg)"
   ],
   "cell_type": "markdown",
   "metadata": {}
  },
  {
   "source": [
    "Lastly we can see from the graph what the average worldwide gross is for movies released in each month. "
   ],
   "cell_type": "markdown",
   "metadata": {}
  },
  {
   "source": [
    "![graph1](./images/AvgWorldGrossMonth2.jpg)"
   ],
   "cell_type": "markdown",
   "metadata": {}
  },
  {
   "source": [
    "Most movies make anywhere for 0 to 250,000,000 million dollars for their worldwide gross. "
   ],
   "cell_type": "markdown",
   "metadata": {}
  },
  {
   "source": [
    "![graph1](./images/AvgWorldGrossNumMovies.jpg)"
   ],
   "cell_type": "markdown",
   "metadata": {}
  },
  {
   "source": [
    "This graph is used to help Microsoft set a goal for their worldwide gross when they are deciding to make a production budget. For instance if Microsoft decides they want to spend $150,000,000 on their production budget they want to aim for making around $450,000,000. "
   ],
   "cell_type": "markdown",
   "metadata": {}
  },
  {
   "source": [
    "![graph1](./images/ProdBudgetWorldGross.jpg)"
   ],
   "cell_type": "markdown",
   "metadata": {}
  },
  {
   "source": [
    "The average runtime for all movies produced in our data set is 97 minutes with most of the movies having a run time of anywhere between 75 and 125 minutes."
   ],
   "cell_type": "markdown",
   "metadata": {}
  },
  {
   "source": [
    "![graph1](./images/AVGRuntimeMovies.jpg)"
   ],
   "cell_type": "markdown",
   "metadata": {}
  },
  {
   "source": [
    "This clarifies the graph above and goes into more detail and shows just how many genres have an average runtime above 97 minutes. "
   ],
   "cell_type": "markdown",
   "metadata": {}
  },
  {
   "source": [
    "![graph1](./images/AvgRuntimeMovieGenre.jpg)"
   ],
   "cell_type": "markdown",
   "metadata": {}
  },
  {
   "source": [
    "As it can be seen there is a large clump of data point inbetween the runtime of 75 to 150. Although a large quantity of data points are below the regression line we also see that there is a large amount of data points above the regression line meaning that having a runtime of between 100 and 150 minutes there is a greater chance of having a higher grossing movie. "
   ],
   "cell_type": "markdown",
   "metadata": {}
  },
  {
   "source": [
    "![graph1](./images/RuntimeWorldGross.jpg)"
   ],
   "cell_type": "markdown",
   "metadata": {}
  },
  {
   "source": [
    "## Conclusion"
   ],
   "cell_type": "markdown",
   "metadata": {}
  },
  {
   "source": [
    "This analysis leads to 3 recommendations"
   ],
   "cell_type": "markdown",
   "metadata": {}
  },
  {
   "source": [
    "1. Microsoft should produce either a Musical, Animation, Fantasy, or Family movie and release it in either June or November. \n",
    "\n",
    "2. Based on Microsofts production budget they should use the regression plot to aim for a worldwide gross goal that is correlated to its production budget\n",
    "\n",
    "3. Microsoft should aim to make their movies anywhere between 90 and 125 minutes "
   ],
   "cell_type": "markdown",
   "metadata": {}
  },
  {
   "source": [],
   "cell_type": "markdown",
   "metadata": {}
  },
  {
   "cell_type": "code",
   "execution_count": null,
   "metadata": {},
   "outputs": [],
   "source": []
  },
  {
   "cell_type": "code",
   "execution_count": null,
   "metadata": {},
   "outputs": [],
   "source": []
  },
  {
   "cell_type": "code",
   "execution_count": null,
   "metadata": {},
   "outputs": [],
   "source": []
  }
 ]
}