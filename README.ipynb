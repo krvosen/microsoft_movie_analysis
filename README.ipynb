{
 "metadata": {
  "language_info": {
   "codemirror_mode": {
    "name": "ipython",
    "version": 3
   },
   "file_extension": ".py",
   "mimetype": "text/x-python",
   "name": "python",
   "nbconvert_exporter": "python",
   "pygments_lexer": "ipython3",
   "version": "3.9.2"
  },
  "orig_nbformat": 2,
  "kernelspec": {
   "name": "python392jvsc74a57bd03e4b7296bcf7107592fe3786d118e7d736cf1e2d17f08606f93eeea3963787ff",
   "display_name": "Python 3.9.2 64-bit"
  },
  "metadata": {
   "interpreter": {
    "hash": "3e4b7296bcf7107592fe3786d118e7d736cf1e2d17f08606f93eeea3963787ff"
   }
  }
 },
 "nbformat": 4,
 "nbformat_minor": 2,
 "cells": [
  {
   "source": [
    "## Overview"
   ],
   "cell_type": "markdown",
   "metadata": {}
  },
  {
   "source": [
    "This project analyzes movie data that helped us come to 3 informed decisions to help Microsoft with its journey to creating a new movie studio. The analysis of the movie industry allowed us to make an informed decision about what genre of movie Microsoft should produce and when to release it. What Microsofts worldwide gross should be compared to its budget. Lastly, what the runtime should be for each of Microsofts movies. Microsoft can use our informed decisions to create the best chance of making a succesful movie.  \n"
   ],
   "cell_type": "markdown",
   "metadata": {}
  },
  {
   "source": [
    "## Buisness Problem"
   ],
   "cell_type": "markdown",
   "metadata": {}
  },
  {
   "source": [
    "Microsoft has decided to enter the movie production industry and create a new movie studio, but they want some advice. This project asks and analyzes which genre of films are doing best at the box office, what the average runtime is, and how much money Microsoft should expect to make compared to their production budget. The results will inform decisions and actions Microsoft's studio can take to create a successful production company."
   ],
   "cell_type": "markdown",
   "metadata": {}
  },
  {
   "source": [
    "## Data"
   ],
   "cell_type": "markdown",
   "metadata": {}
  },
  {
   "source": [
    "The data being used for this project comes from the movie database that was provided to us. We used this data to create unique effective visualizations that will help us explain the path that we believe Microsoft should follow in order to have the best chance of success in their new fight between giants like Disney and Netflix.  "
   ],
   "cell_type": "markdown",
   "metadata": {}
  },
  {
   "source": [
    "## Methods"
   ],
   "cell_type": "markdown",
   "metadata": {}
  },
  {
   "source": [
    "To gather the data relevent to our proposal we used the movie data provided to us and used a number of SQL queries to search though the data. We then cleaned up that data and used seaborn as well as matplot lib to create visualizations that are key to explaining the path we think Microsoft should follow as well as being visually appealing and easy to read.  "
   ],
   "cell_type": "markdown",
   "metadata": {}
  },
  {
   "source": [
    "## Results"
   ],
   "cell_type": "markdown",
   "metadata": {}
  },
  {
   "source": [],
   "cell_type": "markdown",
   "metadata": {}
  },
  {
   "source": [
    "As you can see The genres of Animation, Adventure, Sci-Fi, Musical, Fantasy, Action, Family, and  Comedy are all above the average line for the average worldwide gross earned by each genre."
   ],
   "cell_type": "markdown",
   "metadata": {}
  },
  {
   "source": [
    "![graph1](./images/AvgWorldGrossGenre.jpg)"
   ],
   "cell_type": "markdown",
   "metadata": {}
  },
  {
   "source": [
    "The graph belows shows how the genres for Musical, Horror, Mystery, Fantasy, Family, Animation, Documentary, Biography, Thriller, History, and Romance are all above the average line for Return on investment for each genre. "
   ],
   "cell_type": "markdown",
   "metadata": {}
  },
  {
   "source": [
    "![graph1](./images/AvgROIGenre.jpg)"
   ],
   "cell_type": "markdown",
   "metadata": {}
  },
  {
   "source": [
    "From the graph below we can see the average popularity rating for each genre based on rottentomatoes metrics "
   ],
   "cell_type": "markdown",
   "metadata": {}
  },
  {
   "source": [
    "![graph2](./images/GenrePop.jpg)"
   ],
   "cell_type": "markdown",
   "metadata": {}
  },
  {
   "cell_type": "code",
   "execution_count": null,
   "metadata": {},
   "outputs": [],
   "source": []
  },
  {
   "cell_type": "code",
   "execution_count": null,
   "metadata": {},
   "outputs": [],
   "source": []
  },
  {
   "cell_type": "code",
   "execution_count": null,
   "metadata": {},
   "outputs": [],
   "source": []
  },
  {
   "cell_type": "code",
   "execution_count": null,
   "metadata": {},
   "outputs": [],
   "source": []
  },
  {
   "cell_type": "code",
   "execution_count": null,
   "metadata": {},
   "outputs": [],
   "source": []
  },
  {
   "cell_type": "code",
   "execution_count": null,
   "metadata": {},
   "outputs": [],
   "source": []
  }
 ]
}