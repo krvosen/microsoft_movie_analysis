{
 "cells": [
  {
   "cell_type": "markdown",
   "metadata": {},
   "source": [
    "# Purpose\n",
    "\n",
    "Students have the option of using Pandas and SQL to complete this project. A Phase 1 project done completely in pandas, completely in SQL, or a mixture of the two can all be considered a fine Phase 1 project. This notebook serves as a resource for setting up an SQL database for students who wish to use SQL in their Phase 1 project.\n",
    "\n",
    "**To create the `movies.db` database, run the code cells below.**\n",
    "> The Entity Relational Diagram is below"
   ]
  },
  {
   "cell_type": "code",
   "execution_count": 69,
   "metadata": {
    "ExecuteTime": {
     "end_time": "2020-12-17T21:22:46.674739Z",
     "start_time": "2020-12-17T21:22:46.344841Z"
    }
   },
   "outputs": [],
   "source": [
    "import sqlite3\n",
    "import requests\n",
    "import seaborn as sns\n",
    "#cur = conn.cursor()\n",
    "from bs4 import BeautifulSoup\n",
    "import pandas as pd\n",
    "import numpy as np\n",
    "\n",
    "import matplotlib.pyplot as plt\n",
    "%matplotlib inline\n",
    "from src.make_db import create_movies_db"
   ]
  },
  {
   "cell_type": "code",
   "execution_count": 2,
   "metadata": {
    "ExecuteTime": {
     "end_time": "2020-12-17T21:23:10.522663Z",
     "start_time": "2020-12-17T21:22:47.047708Z"
    },
    "scrolled": true
   },
   "outputs": [
    {
     "output_type": "stream",
     "name": "stdout",
     "text": [
      "imdb_title_principals table created successfully....\n",
      "imdb_name_basic table created successfully....\n",
      "imdb_title_crew table created successfully....\n",
      "imdb_title_ratings table created successfully....\n",
      "imdb_title_basics table created successfully....\n",
      "imdb_title_akas table created successfully....\n",
      "tn_movie_budgets table created successfully....\n",
      "tmdb_movies table created successfully....\n",
      "bom_movie_gross table created successfully....\n",
      "rotten_tomatoes_critic_reviews table created successfully....\n",
      "rotten_tomatoes_movies table created successfully....\n",
      "=========================================================\n",
      "Inserting data into the imdb_title_crew table....\n",
      "Inserting data into the tmdb_movies table....\n",
      "Inserting data into the imdb_title_akas table....\n",
      "Inserting data into the imdb_title_ratings table....\n",
      "Inserting data into the imdb_name_basics table....\n",
      "Inserting data into the rotten_tomatoes_movies table....\n",
      "Inserting data into the rotten_tomatoes_critic_reviews table....\n",
      "Inserting data into the imdb_title_basics table....\n",
      "Inserting data into the tn_movie_budgets table....\n",
      "Inserting data into the bom_movie_gross table....\n",
      "Inserting data into the imdb_title_principals table....\n",
      "=========================================================\n",
      "Database created successfully!\n",
      "To connect to the database: open a connection using the path \"data\\movies.db\"\n"
     ]
    }
   ],
   "source": [
    "create_movies_db()"
   ]
  },
  {
   "cell_type": "code",
   "execution_count": 41,
   "metadata": {},
   "outputs": [
    {
     "output_type": "execute_result",
     "data": {
      "text/plain": [
       "                        genres domestic_gross\n",
       "0      Action,Animation,Comedy             $0\n",
       "1     Action,Adventure,Fantasy    $70,433,227\n",
       "2                         None     $1,109,808\n",
       "3      Adventure,Drama,Romance       $720,828\n",
       "4       Adventure,Comedy,Drama    $58,236,838\n",
       "...                        ...            ...\n",
       "3810                      None     $6,916,869\n",
       "3811                     Drama     $8,224,288\n",
       "3812               Documentary             $0\n",
       "3813                    Comedy     $1,017,107\n",
       "3814               Documentary    $81,562,942\n",
       "\n",
       "[3815 rows x 2 columns]"
      ],
      "text/html": "<div>\n<style scoped>\n    .dataframe tbody tr th:only-of-type {\n        vertical-align: middle;\n    }\n\n    .dataframe tbody tr th {\n        vertical-align: top;\n    }\n\n    .dataframe thead th {\n        text-align: right;\n    }\n</style>\n<table border=\"1\" class=\"dataframe\">\n  <thead>\n    <tr style=\"text-align: right;\">\n      <th></th>\n      <th>genres</th>\n      <th>domestic_gross</th>\n    </tr>\n  </thead>\n  <tbody>\n    <tr>\n      <th>0</th>\n      <td>Action,Animation,Comedy</td>\n      <td>$0</td>\n    </tr>\n    <tr>\n      <th>1</th>\n      <td>Action,Adventure,Fantasy</td>\n      <td>$70,433,227</td>\n    </tr>\n    <tr>\n      <th>2</th>\n      <td>None</td>\n      <td>$1,109,808</td>\n    </tr>\n    <tr>\n      <th>3</th>\n      <td>Adventure,Drama,Romance</td>\n      <td>$720,828</td>\n    </tr>\n    <tr>\n      <th>4</th>\n      <td>Adventure,Comedy,Drama</td>\n      <td>$58,236,838</td>\n    </tr>\n    <tr>\n      <th>...</th>\n      <td>...</td>\n      <td>...</td>\n    </tr>\n    <tr>\n      <th>3810</th>\n      <td>None</td>\n      <td>$6,916,869</td>\n    </tr>\n    <tr>\n      <th>3811</th>\n      <td>Drama</td>\n      <td>$8,224,288</td>\n    </tr>\n    <tr>\n      <th>3812</th>\n      <td>Documentary</td>\n      <td>$0</td>\n    </tr>\n    <tr>\n      <th>3813</th>\n      <td>Comedy</td>\n      <td>$1,017,107</td>\n    </tr>\n    <tr>\n      <th>3814</th>\n      <td>Documentary</td>\n      <td>$81,562,942</td>\n    </tr>\n  </tbody>\n</table>\n<p>3815 rows × 2 columns</p>\n</div>"
     },
     "metadata": {},
     "execution_count": 41
    }
   ],
   "source": [
    "conn = sqlite3.connect('data\\movies.db')\n",
    "movie_title = pd.read_sql ('''SELECT genres , domestic_gross\n",
    "                              FROM imdb_title_basics\n",
    "                              JOIN tn_movie_budgets\n",
    "                              ON primary_title=movie\n",
    "                              \n",
    "                              \n",
    "                              ''',conn)\n",
    "\n",
    "movie_title"
   ]
  },
  {
   "cell_type": "code",
   "execution_count": 42,
   "metadata": {},
   "outputs": [],
   "source": [
    "# movie_title = pd.read_csv('data/zippedData/tn.movie_budgets.csv.gz')\n",
    "#df.domestic_gross.translate({ord('$'): None})\n",
    "movie_title['domestic_gross'] = movie_title['domestic_gross'].str.replace('$', '').str.replace(',','')\n",
    "movie_title['domestic_gross'] = movie_title['domestic_gross'].astype(int)"
   ]
  },
  {
   "cell_type": "code",
   "execution_count": 43,
   "metadata": {},
   "outputs": [],
   "source": [
    "movie_title = movie_title.groupby('genres',as_index=False).mean()\n",
    "pd.set_option('display.float_format', '{:.2f}'.format)\n",
    "#movie_title"
   ]
  },
  {
   "cell_type": "code",
   "execution_count": 44,
   "metadata": {},
   "outputs": [
    {
     "output_type": "execute_result",
     "data": {
      "text/plain": [
       "['Western',\n",
       " 'Music',\n",
       " 'Reality-TV',\n",
       " 'Family',\n",
       " 'Documentary',\n",
       " 'Sci-Fi',\n",
       " 'Musical',\n",
       " 'Sport',\n",
       " 'Mystery',\n",
       " 'Fantasy',\n",
       " 'Thriller',\n",
       " 'Action',\n",
       " 'Animation',\n",
       " 'News',\n",
       " 'Drama',\n",
       " 'Biography',\n",
       " 'Romance',\n",
       " 'Horror',\n",
       " 'Crime',\n",
       " 'Adventure',\n",
       " 'War',\n",
       " 'History',\n",
       " 'Comedy']"
      ]
     },
     "metadata": {},
     "execution_count": 44
    }
   ],
   "source": [
    "genres = list(set([y for x in [a.split(',') for a in movie_title['genres']] for y in x]))\n",
    "genres"
   ]
  },
  {
   "cell_type": "code",
   "execution_count": 45,
   "metadata": {},
   "outputs": [
    {
     "output_type": "execute_result",
     "data": {
      "text/plain": [
       "     domestic_gross  Action  Adventure  Animation  Biography  Comedy  Crime  \\\n",
       "0       27614645.41       1          0          0          0       0      0   \n",
       "1       56049608.83       1          1          0          0       0      0   \n",
       "2      156725242.94       1          1          1          0       0      0   \n",
       "3       56717186.60       1          1          0          1       0      0   \n",
       "4      111544514.70       1          1          0          0       1      0   \n",
       "..              ...     ...        ...        ...        ...     ...    ...   \n",
       "340     26080272.38       0          0          0          0       0      0   \n",
       "341     14551149.33       0          0          0          0       0      0   \n",
       "342     25263527.54       0          0          0          0       0      0   \n",
       "343     51870018.50       0          0          0          0       0      0   \n",
       "344      9873256.38       0          0          0          0       0      0   \n",
       "\n",
       "     Documentary  Drama  Family  ...  Musical  Mystery  News  Reality-TV  \\\n",
       "0              0      0       0  ...        0        0     0           0   \n",
       "1              0      0       0  ...        0        0     0           0   \n",
       "2              0      0       0  ...        0        0     0           0   \n",
       "3              0      0       0  ...        0        0     0           0   \n",
       "4              0      0       0  ...        0        0     0           0   \n",
       "..           ...    ...     ...  ...      ...      ...   ...         ...   \n",
       "340            0      0       0  ...        0        0     0           0   \n",
       "341            0      0       0  ...        0        0     0           0   \n",
       "342            0      0       0  ...        0        0     0           0   \n",
       "343            0      0       0  ...        0        0     0           0   \n",
       "344            0      0       0  ...        0        0     0           0   \n",
       "\n",
       "     Romance  Sci-Fi  Sport  Thriller  War  Western  \n",
       "0          0       0      0         0    0        0  \n",
       "1          0       0      0         0    0        0  \n",
       "2          0       0      0         0    0        0  \n",
       "3          0       0      0         0    0        0  \n",
       "4          0       0      0         0    0        0  \n",
       "..       ...     ...    ...       ...  ...      ...  \n",
       "340        0       1      0         1    0        0  \n",
       "341        0       0      1         0    0        0  \n",
       "342        0       0      0         1    0        0  \n",
       "343        0       0      0         0    1        0  \n",
       "344        0       0      0         0    0        1  \n",
       "\n",
       "[345 rows x 24 columns]"
      ],
      "text/html": "<div>\n<style scoped>\n    .dataframe tbody tr th:only-of-type {\n        vertical-align: middle;\n    }\n\n    .dataframe tbody tr th {\n        vertical-align: top;\n    }\n\n    .dataframe thead th {\n        text-align: right;\n    }\n</style>\n<table border=\"1\" class=\"dataframe\">\n  <thead>\n    <tr style=\"text-align: right;\">\n      <th></th>\n      <th>domestic_gross</th>\n      <th>Action</th>\n      <th>Adventure</th>\n      <th>Animation</th>\n      <th>Biography</th>\n      <th>Comedy</th>\n      <th>Crime</th>\n      <th>Documentary</th>\n      <th>Drama</th>\n      <th>Family</th>\n      <th>...</th>\n      <th>Musical</th>\n      <th>Mystery</th>\n      <th>News</th>\n      <th>Reality-TV</th>\n      <th>Romance</th>\n      <th>Sci-Fi</th>\n      <th>Sport</th>\n      <th>Thriller</th>\n      <th>War</th>\n      <th>Western</th>\n    </tr>\n  </thead>\n  <tbody>\n    <tr>\n      <th>0</th>\n      <td>27614645.41</td>\n      <td>1</td>\n      <td>0</td>\n      <td>0</td>\n      <td>0</td>\n      <td>0</td>\n      <td>0</td>\n      <td>0</td>\n      <td>0</td>\n      <td>0</td>\n      <td>...</td>\n      <td>0</td>\n      <td>0</td>\n      <td>0</td>\n      <td>0</td>\n      <td>0</td>\n      <td>0</td>\n      <td>0</td>\n      <td>0</td>\n      <td>0</td>\n      <td>0</td>\n    </tr>\n    <tr>\n      <th>1</th>\n      <td>56049608.83</td>\n      <td>1</td>\n      <td>1</td>\n      <td>0</td>\n      <td>0</td>\n      <td>0</td>\n      <td>0</td>\n      <td>0</td>\n      <td>0</td>\n      <td>0</td>\n      <td>...</td>\n      <td>0</td>\n      <td>0</td>\n      <td>0</td>\n      <td>0</td>\n      <td>0</td>\n      <td>0</td>\n      <td>0</td>\n      <td>0</td>\n      <td>0</td>\n      <td>0</td>\n    </tr>\n    <tr>\n      <th>2</th>\n      <td>156725242.94</td>\n      <td>1</td>\n      <td>1</td>\n      <td>1</td>\n      <td>0</td>\n      <td>0</td>\n      <td>0</td>\n      <td>0</td>\n      <td>0</td>\n      <td>0</td>\n      <td>...</td>\n      <td>0</td>\n      <td>0</td>\n      <td>0</td>\n      <td>0</td>\n      <td>0</td>\n      <td>0</td>\n      <td>0</td>\n      <td>0</td>\n      <td>0</td>\n      <td>0</td>\n    </tr>\n    <tr>\n      <th>3</th>\n      <td>56717186.60</td>\n      <td>1</td>\n      <td>1</td>\n      <td>0</td>\n      <td>1</td>\n      <td>0</td>\n      <td>0</td>\n      <td>0</td>\n      <td>0</td>\n      <td>0</td>\n      <td>...</td>\n      <td>0</td>\n      <td>0</td>\n      <td>0</td>\n      <td>0</td>\n      <td>0</td>\n      <td>0</td>\n      <td>0</td>\n      <td>0</td>\n      <td>0</td>\n      <td>0</td>\n    </tr>\n    <tr>\n      <th>4</th>\n      <td>111544514.70</td>\n      <td>1</td>\n      <td>1</td>\n      <td>0</td>\n      <td>0</td>\n      <td>1</td>\n      <td>0</td>\n      <td>0</td>\n      <td>0</td>\n      <td>0</td>\n      <td>...</td>\n      <td>0</td>\n      <td>0</td>\n      <td>0</td>\n      <td>0</td>\n      <td>0</td>\n      <td>0</td>\n      <td>0</td>\n      <td>0</td>\n      <td>0</td>\n      <td>0</td>\n    </tr>\n    <tr>\n      <th>...</th>\n      <td>...</td>\n      <td>...</td>\n      <td>...</td>\n      <td>...</td>\n      <td>...</td>\n      <td>...</td>\n      <td>...</td>\n      <td>...</td>\n      <td>...</td>\n      <td>...</td>\n      <td>...</td>\n      <td>...</td>\n      <td>...</td>\n      <td>...</td>\n      <td>...</td>\n      <td>...</td>\n      <td>...</td>\n      <td>...</td>\n      <td>...</td>\n      <td>...</td>\n      <td>...</td>\n    </tr>\n    <tr>\n      <th>340</th>\n      <td>26080272.38</td>\n      <td>0</td>\n      <td>0</td>\n      <td>0</td>\n      <td>0</td>\n      <td>0</td>\n      <td>0</td>\n      <td>0</td>\n      <td>0</td>\n      <td>0</td>\n      <td>...</td>\n      <td>0</td>\n      <td>0</td>\n      <td>0</td>\n      <td>0</td>\n      <td>0</td>\n      <td>1</td>\n      <td>0</td>\n      <td>1</td>\n      <td>0</td>\n      <td>0</td>\n    </tr>\n    <tr>\n      <th>341</th>\n      <td>14551149.33</td>\n      <td>0</td>\n      <td>0</td>\n      <td>0</td>\n      <td>0</td>\n      <td>0</td>\n      <td>0</td>\n      <td>0</td>\n      <td>0</td>\n      <td>0</td>\n      <td>...</td>\n      <td>0</td>\n      <td>0</td>\n      <td>0</td>\n      <td>0</td>\n      <td>0</td>\n      <td>0</td>\n      <td>1</td>\n      <td>0</td>\n      <td>0</td>\n      <td>0</td>\n    </tr>\n    <tr>\n      <th>342</th>\n      <td>25263527.54</td>\n      <td>0</td>\n      <td>0</td>\n      <td>0</td>\n      <td>0</td>\n      <td>0</td>\n      <td>0</td>\n      <td>0</td>\n      <td>0</td>\n      <td>0</td>\n      <td>...</td>\n      <td>0</td>\n      <td>0</td>\n      <td>0</td>\n      <td>0</td>\n      <td>0</td>\n      <td>0</td>\n      <td>0</td>\n      <td>1</td>\n      <td>0</td>\n      <td>0</td>\n    </tr>\n    <tr>\n      <th>343</th>\n      <td>51870018.50</td>\n      <td>0</td>\n      <td>0</td>\n      <td>0</td>\n      <td>0</td>\n      <td>0</td>\n      <td>0</td>\n      <td>0</td>\n      <td>0</td>\n      <td>0</td>\n      <td>...</td>\n      <td>0</td>\n      <td>0</td>\n      <td>0</td>\n      <td>0</td>\n      <td>0</td>\n      <td>0</td>\n      <td>0</td>\n      <td>0</td>\n      <td>1</td>\n      <td>0</td>\n    </tr>\n    <tr>\n      <th>344</th>\n      <td>9873256.38</td>\n      <td>0</td>\n      <td>0</td>\n      <td>0</td>\n      <td>0</td>\n      <td>0</td>\n      <td>0</td>\n      <td>0</td>\n      <td>0</td>\n      <td>0</td>\n      <td>...</td>\n      <td>0</td>\n      <td>0</td>\n      <td>0</td>\n      <td>0</td>\n      <td>0</td>\n      <td>0</td>\n      <td>0</td>\n      <td>0</td>\n      <td>0</td>\n      <td>1</td>\n    </tr>\n  </tbody>\n</table>\n<p>345 rows × 24 columns</p>\n</div>"
     },
     "metadata": {},
     "execution_count": 45
    }
   ],
   "source": [
    "movie_title['genres'] = movie_title['genres'].str.split(',')\n",
    "movie_title2 = pd.get_dummies(pd.DataFrame(movie_title['genres'].tolist()).stack()).sum(level=0)\n",
    "movie_title = pd.concat([movie_title, movie_title2], axis=1).drop(columns=['genres'])\n",
    "movie_title\n"
   ]
  },
  {
   "cell_type": "code",
   "execution_count": 85,
   "metadata": {},
   "outputs": [
    {
     "output_type": "execute_result",
     "data": {
      "text/plain": [
       "                domestic_gross  Action  Adventure  Animation  Biography  \\\n",
       "domestic_gross            1.00    0.06       0.19       0.12      -0.04   \n",
       "Adventure                 0.19    0.03       1.00       0.07      -0.06   \n",
       "Fantasy                   0.19   -0.03      -0.05       0.03      -0.11   \n",
       "Musical                   0.16   -0.11      -0.10       0.01      -0.02   \n",
       "Animation                 0.12   -0.05       0.07       1.00      -0.08   \n",
       "Family                    0.12   -0.10      -0.01       0.10      -0.03   \n",
       "Action                    0.06    1.00       0.03      -0.05      -0.06   \n",
       "Comedy                    0.03   -0.06      -0.04      -0.02      -0.06   \n",
       "Sport                     0.02    0.01      -0.03      -0.06       0.04   \n",
       "Sci-Fi                    0.01   -0.00      -0.02      -0.01      -0.11   \n",
       "Romance                  -0.00   -0.05      -0.09      -0.09      -0.08   \n",
       "Western                  -0.01    0.02      -0.00      -0.05      -0.00   \n",
       "News                     -0.04   -0.04      -0.04      -0.02      -0.03   \n",
       "Biography                -0.04   -0.06      -0.06      -0.08       1.00   \n",
       "Reality-TV               -0.04   -0.03      -0.03      -0.01      -0.02   \n",
       "Drama                    -0.07   -0.18      -0.11      -0.10       0.08   \n",
       "Music                    -0.07   -0.13      -0.05      -0.06       0.00   \n",
       "Mystery                  -0.07   -0.04      -0.05      -0.09      -0.09   \n",
       "Thriller                 -0.08   -0.03      -0.14      -0.11      -0.11   \n",
       "War                      -0.08   -0.01      -0.08      -0.06       0.01   \n",
       "Documentary              -0.09   -0.14      -0.02       0.02       0.15   \n",
       "History                  -0.10   -0.04      -0.04      -0.07      -0.01   \n",
       "Crime                    -0.11    0.04      -0.08      -0.09      -0.00   \n",
       "Horror                   -0.16   -0.04      -0.04      -0.07      -0.13   \n",
       "\n",
       "                Comedy  Crime  Documentary  Drama  Family  ...  Musical  \\\n",
       "domestic_gross    0.03  -0.11        -0.09  -0.07    0.12  ...     0.16   \n",
       "Adventure        -0.04  -0.08        -0.02  -0.11   -0.01  ...    -0.10   \n",
       "Fantasy          -0.03  -0.08        -0.16  -0.07    0.06  ...     0.12   \n",
       "Musical          -0.01  -0.03        -0.09   0.05   -0.03  ...     1.00   \n",
       "Animation        -0.02  -0.09         0.02  -0.10    0.10  ...     0.01   \n",
       "Family           -0.04  -0.10        -0.03  -0.02    1.00  ...    -0.03   \n",
       "Action           -0.06   0.04        -0.14  -0.18   -0.10  ...    -0.11   \n",
       "Comedy            1.00  -0.03        -0.16  -0.18   -0.04  ...    -0.01   \n",
       "Sport            -0.02  -0.06         0.06   0.00   -0.01  ...    -0.05   \n",
       "Sci-Fi           -0.03  -0.07        -0.12  -0.11   -0.06  ...    -0.07   \n",
       "Romance           0.08  -0.07        -0.15   0.02   -0.03  ...    -0.02   \n",
       "Western          -0.06  -0.07         0.01   0.03   -0.06  ...    -0.04   \n",
       "News             -0.04  -0.03         0.18   0.02   -0.03  ...    -0.02   \n",
       "Biography        -0.06  -0.00         0.15   0.08   -0.03  ...    -0.02   \n",
       "Reality-TV       -0.03  -0.02         0.13   0.07   -0.02  ...    -0.01   \n",
       "Drama            -0.18  -0.03        -0.14   1.00   -0.02  ...     0.05   \n",
       "Music             0.01  -0.09         0.03   0.01   -0.01  ...     0.01   \n",
       "Mystery          -0.06   0.01        -0.10  -0.02   -0.10  ...    -0.07   \n",
       "Thriller         -0.09   0.05        -0.13  -0.06   -0.12  ...    -0.09   \n",
       "War              -0.10  -0.09         0.11   0.02   -0.09  ...    -0.05   \n",
       "Documentary      -0.16  -0.06         1.00  -0.14   -0.03  ...    -0.09   \n",
       "History          -0.12  -0.03         0.16   0.09   -0.03  ...    -0.06   \n",
       "Crime            -0.03   1.00        -0.06  -0.03   -0.10  ...    -0.03   \n",
       "Horror           -0.02  -0.02        -0.15  -0.16   -0.12  ...    -0.04   \n",
       "\n",
       "                Mystery  News  Reality-TV  Romance  Sci-Fi  Sport  Thriller  \\\n",
       "domestic_gross    -0.07 -0.04       -0.04    -0.00    0.01   0.02     -0.08   \n",
       "Adventure         -0.05 -0.04       -0.03    -0.09   -0.02  -0.03     -0.14   \n",
       "Fantasy           -0.05 -0.03       -0.02    -0.07   -0.06  -0.11     -0.04   \n",
       "Musical           -0.07 -0.02       -0.01    -0.02   -0.07  -0.05     -0.09   \n",
       "Animation         -0.09 -0.02       -0.01    -0.09   -0.01  -0.06     -0.11   \n",
       "Family            -0.10 -0.03       -0.02    -0.03   -0.06  -0.01     -0.12   \n",
       "Action            -0.04 -0.04       -0.03    -0.05   -0.00   0.01     -0.03   \n",
       "Comedy            -0.06 -0.04       -0.03     0.08   -0.03  -0.02     -0.09   \n",
       "Sport             -0.09 -0.02       -0.01    -0.01   -0.09   1.00     -0.07   \n",
       "Sci-Fi             0.09 -0.03       -0.02    -0.03    1.00  -0.09      0.02   \n",
       "Romance           -0.09 -0.03       -0.02     1.00   -0.03  -0.01      0.01   \n",
       "Western           -0.06 -0.01       -0.01    -0.06   -0.06  -0.05     -0.03   \n",
       "News              -0.03  1.00       -0.00    -0.03   -0.03  -0.02     -0.03   \n",
       "Biography         -0.09 -0.03       -0.02    -0.08   -0.11   0.04     -0.11   \n",
       "Reality-TV        -0.02 -0.00        1.00    -0.02   -0.02  -0.01     -0.02   \n",
       "Drama             -0.02  0.02        0.07     0.02   -0.11   0.00     -0.06   \n",
       "Music             -0.09 -0.02       -0.01    -0.01   -0.08  -0.06     -0.03   \n",
       "Mystery            1.00 -0.03       -0.02    -0.09    0.09  -0.09      0.03   \n",
       "Thriller           0.03 -0.03       -0.02     0.01    0.02  -0.07      1.00   \n",
       "War               -0.05 -0.02       -0.01    -0.04   -0.08  -0.06     -0.03   \n",
       "Documentary       -0.10  0.18        0.13    -0.15   -0.12   0.06     -0.13   \n",
       "History           -0.03 -0.02       -0.01    -0.06   -0.09  -0.02     -0.08   \n",
       "Crime              0.01 -0.03       -0.02    -0.07   -0.07  -0.06      0.05   \n",
       "Horror             0.09 -0.03       -0.02    -0.03    0.08  -0.10      0.06   \n",
       "\n",
       "                 War  Western  \n",
       "domestic_gross -0.08    -0.01  \n",
       "Adventure      -0.08    -0.00  \n",
       "Fantasy        -0.06    -0.03  \n",
       "Musical        -0.05    -0.04  \n",
       "Animation      -0.06    -0.05  \n",
       "Family         -0.09    -0.06  \n",
       "Action         -0.01     0.02  \n",
       "Comedy         -0.10    -0.06  \n",
       "Sport          -0.06    -0.05  \n",
       "Sci-Fi         -0.08    -0.06  \n",
       "Romance        -0.04    -0.06  \n",
       "Western        -0.04     1.00  \n",
       "News           -0.02    -0.01  \n",
       "Biography       0.01    -0.00  \n",
       "Reality-TV     -0.01    -0.01  \n",
       "Drama           0.02     0.03  \n",
       "Music           0.10    -0.05  \n",
       "Mystery        -0.05    -0.06  \n",
       "Thriller       -0.03    -0.03  \n",
       "War             1.00    -0.04  \n",
       "Documentary     0.11     0.01  \n",
       "History         0.08     0.02  \n",
       "Crime          -0.09    -0.07  \n",
       "Horror         -0.10    -0.07  \n",
       "\n",
       "[24 rows x 24 columns]"
      ],
      "text/html": "<div>\n<style scoped>\n    .dataframe tbody tr th:only-of-type {\n        vertical-align: middle;\n    }\n\n    .dataframe tbody tr th {\n        vertical-align: top;\n    }\n\n    .dataframe thead th {\n        text-align: right;\n    }\n</style>\n<table border=\"1\" class=\"dataframe\">\n  <thead>\n    <tr style=\"text-align: right;\">\n      <th></th>\n      <th>domestic_gross</th>\n      <th>Action</th>\n      <th>Adventure</th>\n      <th>Animation</th>\n      <th>Biography</th>\n      <th>Comedy</th>\n      <th>Crime</th>\n      <th>Documentary</th>\n      <th>Drama</th>\n      <th>Family</th>\n      <th>...</th>\n      <th>Musical</th>\n      <th>Mystery</th>\n      <th>News</th>\n      <th>Reality-TV</th>\n      <th>Romance</th>\n      <th>Sci-Fi</th>\n      <th>Sport</th>\n      <th>Thriller</th>\n      <th>War</th>\n      <th>Western</th>\n    </tr>\n  </thead>\n  <tbody>\n    <tr>\n      <th>domestic_gross</th>\n      <td>1.00</td>\n      <td>0.06</td>\n      <td>0.19</td>\n      <td>0.12</td>\n      <td>-0.04</td>\n      <td>0.03</td>\n      <td>-0.11</td>\n      <td>-0.09</td>\n      <td>-0.07</td>\n      <td>0.12</td>\n      <td>...</td>\n      <td>0.16</td>\n      <td>-0.07</td>\n      <td>-0.04</td>\n      <td>-0.04</td>\n      <td>-0.00</td>\n      <td>0.01</td>\n      <td>0.02</td>\n      <td>-0.08</td>\n      <td>-0.08</td>\n      <td>-0.01</td>\n    </tr>\n    <tr>\n      <th>Adventure</th>\n      <td>0.19</td>\n      <td>0.03</td>\n      <td>1.00</td>\n      <td>0.07</td>\n      <td>-0.06</td>\n      <td>-0.04</td>\n      <td>-0.08</td>\n      <td>-0.02</td>\n      <td>-0.11</td>\n      <td>-0.01</td>\n      <td>...</td>\n      <td>-0.10</td>\n      <td>-0.05</td>\n      <td>-0.04</td>\n      <td>-0.03</td>\n      <td>-0.09</td>\n      <td>-0.02</td>\n      <td>-0.03</td>\n      <td>-0.14</td>\n      <td>-0.08</td>\n      <td>-0.00</td>\n    </tr>\n    <tr>\n      <th>Fantasy</th>\n      <td>0.19</td>\n      <td>-0.03</td>\n      <td>-0.05</td>\n      <td>0.03</td>\n      <td>-0.11</td>\n      <td>-0.03</td>\n      <td>-0.08</td>\n      <td>-0.16</td>\n      <td>-0.07</td>\n      <td>0.06</td>\n      <td>...</td>\n      <td>0.12</td>\n      <td>-0.05</td>\n      <td>-0.03</td>\n      <td>-0.02</td>\n      <td>-0.07</td>\n      <td>-0.06</td>\n      <td>-0.11</td>\n      <td>-0.04</td>\n      <td>-0.06</td>\n      <td>-0.03</td>\n    </tr>\n    <tr>\n      <th>Musical</th>\n      <td>0.16</td>\n      <td>-0.11</td>\n      <td>-0.10</td>\n      <td>0.01</td>\n      <td>-0.02</td>\n      <td>-0.01</td>\n      <td>-0.03</td>\n      <td>-0.09</td>\n      <td>0.05</td>\n      <td>-0.03</td>\n      <td>...</td>\n      <td>1.00</td>\n      <td>-0.07</td>\n      <td>-0.02</td>\n      <td>-0.01</td>\n      <td>-0.02</td>\n      <td>-0.07</td>\n      <td>-0.05</td>\n      <td>-0.09</td>\n      <td>-0.05</td>\n      <td>-0.04</td>\n    </tr>\n    <tr>\n      <th>Animation</th>\n      <td>0.12</td>\n      <td>-0.05</td>\n      <td>0.07</td>\n      <td>1.00</td>\n      <td>-0.08</td>\n      <td>-0.02</td>\n      <td>-0.09</td>\n      <td>0.02</td>\n      <td>-0.10</td>\n      <td>0.10</td>\n      <td>...</td>\n      <td>0.01</td>\n      <td>-0.09</td>\n      <td>-0.02</td>\n      <td>-0.01</td>\n      <td>-0.09</td>\n      <td>-0.01</td>\n      <td>-0.06</td>\n      <td>-0.11</td>\n      <td>-0.06</td>\n      <td>-0.05</td>\n    </tr>\n    <tr>\n      <th>Family</th>\n      <td>0.12</td>\n      <td>-0.10</td>\n      <td>-0.01</td>\n      <td>0.10</td>\n      <td>-0.03</td>\n      <td>-0.04</td>\n      <td>-0.10</td>\n      <td>-0.03</td>\n      <td>-0.02</td>\n      <td>1.00</td>\n      <td>...</td>\n      <td>-0.03</td>\n      <td>-0.10</td>\n      <td>-0.03</td>\n      <td>-0.02</td>\n      <td>-0.03</td>\n      <td>-0.06</td>\n      <td>-0.01</td>\n      <td>-0.12</td>\n      <td>-0.09</td>\n      <td>-0.06</td>\n    </tr>\n    <tr>\n      <th>Action</th>\n      <td>0.06</td>\n      <td>1.00</td>\n      <td>0.03</td>\n      <td>-0.05</td>\n      <td>-0.06</td>\n      <td>-0.06</td>\n      <td>0.04</td>\n      <td>-0.14</td>\n      <td>-0.18</td>\n      <td>-0.10</td>\n      <td>...</td>\n      <td>-0.11</td>\n      <td>-0.04</td>\n      <td>-0.04</td>\n      <td>-0.03</td>\n      <td>-0.05</td>\n      <td>-0.00</td>\n      <td>0.01</td>\n      <td>-0.03</td>\n      <td>-0.01</td>\n      <td>0.02</td>\n    </tr>\n    <tr>\n      <th>Comedy</th>\n      <td>0.03</td>\n      <td>-0.06</td>\n      <td>-0.04</td>\n      <td>-0.02</td>\n      <td>-0.06</td>\n      <td>1.00</td>\n      <td>-0.03</td>\n      <td>-0.16</td>\n      <td>-0.18</td>\n      <td>-0.04</td>\n      <td>...</td>\n      <td>-0.01</td>\n      <td>-0.06</td>\n      <td>-0.04</td>\n      <td>-0.03</td>\n      <td>0.08</td>\n      <td>-0.03</td>\n      <td>-0.02</td>\n      <td>-0.09</td>\n      <td>-0.10</td>\n      <td>-0.06</td>\n    </tr>\n    <tr>\n      <th>Sport</th>\n      <td>0.02</td>\n      <td>0.01</td>\n      <td>-0.03</td>\n      <td>-0.06</td>\n      <td>0.04</td>\n      <td>-0.02</td>\n      <td>-0.06</td>\n      <td>0.06</td>\n      <td>0.00</td>\n      <td>-0.01</td>\n      <td>...</td>\n      <td>-0.05</td>\n      <td>-0.09</td>\n      <td>-0.02</td>\n      <td>-0.01</td>\n      <td>-0.01</td>\n      <td>-0.09</td>\n      <td>1.00</td>\n      <td>-0.07</td>\n      <td>-0.06</td>\n      <td>-0.05</td>\n    </tr>\n    <tr>\n      <th>Sci-Fi</th>\n      <td>0.01</td>\n      <td>-0.00</td>\n      <td>-0.02</td>\n      <td>-0.01</td>\n      <td>-0.11</td>\n      <td>-0.03</td>\n      <td>-0.07</td>\n      <td>-0.12</td>\n      <td>-0.11</td>\n      <td>-0.06</td>\n      <td>...</td>\n      <td>-0.07</td>\n      <td>0.09</td>\n      <td>-0.03</td>\n      <td>-0.02</td>\n      <td>-0.03</td>\n      <td>1.00</td>\n      <td>-0.09</td>\n      <td>0.02</td>\n      <td>-0.08</td>\n      <td>-0.06</td>\n    </tr>\n    <tr>\n      <th>Romance</th>\n      <td>-0.00</td>\n      <td>-0.05</td>\n      <td>-0.09</td>\n      <td>-0.09</td>\n      <td>-0.08</td>\n      <td>0.08</td>\n      <td>-0.07</td>\n      <td>-0.15</td>\n      <td>0.02</td>\n      <td>-0.03</td>\n      <td>...</td>\n      <td>-0.02</td>\n      <td>-0.09</td>\n      <td>-0.03</td>\n      <td>-0.02</td>\n      <td>1.00</td>\n      <td>-0.03</td>\n      <td>-0.01</td>\n      <td>0.01</td>\n      <td>-0.04</td>\n      <td>-0.06</td>\n    </tr>\n    <tr>\n      <th>Western</th>\n      <td>-0.01</td>\n      <td>0.02</td>\n      <td>-0.00</td>\n      <td>-0.05</td>\n      <td>-0.00</td>\n      <td>-0.06</td>\n      <td>-0.07</td>\n      <td>0.01</td>\n      <td>0.03</td>\n      <td>-0.06</td>\n      <td>...</td>\n      <td>-0.04</td>\n      <td>-0.06</td>\n      <td>-0.01</td>\n      <td>-0.01</td>\n      <td>-0.06</td>\n      <td>-0.06</td>\n      <td>-0.05</td>\n      <td>-0.03</td>\n      <td>-0.04</td>\n      <td>1.00</td>\n    </tr>\n    <tr>\n      <th>News</th>\n      <td>-0.04</td>\n      <td>-0.04</td>\n      <td>-0.04</td>\n      <td>-0.02</td>\n      <td>-0.03</td>\n      <td>-0.04</td>\n      <td>-0.03</td>\n      <td>0.18</td>\n      <td>0.02</td>\n      <td>-0.03</td>\n      <td>...</td>\n      <td>-0.02</td>\n      <td>-0.03</td>\n      <td>1.00</td>\n      <td>-0.00</td>\n      <td>-0.03</td>\n      <td>-0.03</td>\n      <td>-0.02</td>\n      <td>-0.03</td>\n      <td>-0.02</td>\n      <td>-0.01</td>\n    </tr>\n    <tr>\n      <th>Biography</th>\n      <td>-0.04</td>\n      <td>-0.06</td>\n      <td>-0.06</td>\n      <td>-0.08</td>\n      <td>1.00</td>\n      <td>-0.06</td>\n      <td>-0.00</td>\n      <td>0.15</td>\n      <td>0.08</td>\n      <td>-0.03</td>\n      <td>...</td>\n      <td>-0.02</td>\n      <td>-0.09</td>\n      <td>-0.03</td>\n      <td>-0.02</td>\n      <td>-0.08</td>\n      <td>-0.11</td>\n      <td>0.04</td>\n      <td>-0.11</td>\n      <td>0.01</td>\n      <td>-0.00</td>\n    </tr>\n    <tr>\n      <th>Reality-TV</th>\n      <td>-0.04</td>\n      <td>-0.03</td>\n      <td>-0.03</td>\n      <td>-0.01</td>\n      <td>-0.02</td>\n      <td>-0.03</td>\n      <td>-0.02</td>\n      <td>0.13</td>\n      <td>0.07</td>\n      <td>-0.02</td>\n      <td>...</td>\n      <td>-0.01</td>\n      <td>-0.02</td>\n      <td>-0.00</td>\n      <td>1.00</td>\n      <td>-0.02</td>\n      <td>-0.02</td>\n      <td>-0.01</td>\n      <td>-0.02</td>\n      <td>-0.01</td>\n      <td>-0.01</td>\n    </tr>\n    <tr>\n      <th>Drama</th>\n      <td>-0.07</td>\n      <td>-0.18</td>\n      <td>-0.11</td>\n      <td>-0.10</td>\n      <td>0.08</td>\n      <td>-0.18</td>\n      <td>-0.03</td>\n      <td>-0.14</td>\n      <td>1.00</td>\n      <td>-0.02</td>\n      <td>...</td>\n      <td>0.05</td>\n      <td>-0.02</td>\n      <td>0.02</td>\n      <td>0.07</td>\n      <td>0.02</td>\n      <td>-0.11</td>\n      <td>0.00</td>\n      <td>-0.06</td>\n      <td>0.02</td>\n      <td>0.03</td>\n    </tr>\n    <tr>\n      <th>Music</th>\n      <td>-0.07</td>\n      <td>-0.13</td>\n      <td>-0.05</td>\n      <td>-0.06</td>\n      <td>0.00</td>\n      <td>0.01</td>\n      <td>-0.09</td>\n      <td>0.03</td>\n      <td>0.01</td>\n      <td>-0.01</td>\n      <td>...</td>\n      <td>0.01</td>\n      <td>-0.09</td>\n      <td>-0.02</td>\n      <td>-0.01</td>\n      <td>-0.01</td>\n      <td>-0.08</td>\n      <td>-0.06</td>\n      <td>-0.03</td>\n      <td>0.10</td>\n      <td>-0.05</td>\n    </tr>\n    <tr>\n      <th>Mystery</th>\n      <td>-0.07</td>\n      <td>-0.04</td>\n      <td>-0.05</td>\n      <td>-0.09</td>\n      <td>-0.09</td>\n      <td>-0.06</td>\n      <td>0.01</td>\n      <td>-0.10</td>\n      <td>-0.02</td>\n      <td>-0.10</td>\n      <td>...</td>\n      <td>-0.07</td>\n      <td>1.00</td>\n      <td>-0.03</td>\n      <td>-0.02</td>\n      <td>-0.09</td>\n      <td>0.09</td>\n      <td>-0.09</td>\n      <td>0.03</td>\n      <td>-0.05</td>\n      <td>-0.06</td>\n    </tr>\n    <tr>\n      <th>Thriller</th>\n      <td>-0.08</td>\n      <td>-0.03</td>\n      <td>-0.14</td>\n      <td>-0.11</td>\n      <td>-0.11</td>\n      <td>-0.09</td>\n      <td>0.05</td>\n      <td>-0.13</td>\n      <td>-0.06</td>\n      <td>-0.12</td>\n      <td>...</td>\n      <td>-0.09</td>\n      <td>0.03</td>\n      <td>-0.03</td>\n      <td>-0.02</td>\n      <td>0.01</td>\n      <td>0.02</td>\n      <td>-0.07</td>\n      <td>1.00</td>\n      <td>-0.03</td>\n      <td>-0.03</td>\n    </tr>\n    <tr>\n      <th>War</th>\n      <td>-0.08</td>\n      <td>-0.01</td>\n      <td>-0.08</td>\n      <td>-0.06</td>\n      <td>0.01</td>\n      <td>-0.10</td>\n      <td>-0.09</td>\n      <td>0.11</td>\n      <td>0.02</td>\n      <td>-0.09</td>\n      <td>...</td>\n      <td>-0.05</td>\n      <td>-0.05</td>\n      <td>-0.02</td>\n      <td>-0.01</td>\n      <td>-0.04</td>\n      <td>-0.08</td>\n      <td>-0.06</td>\n      <td>-0.03</td>\n      <td>1.00</td>\n      <td>-0.04</td>\n    </tr>\n    <tr>\n      <th>Documentary</th>\n      <td>-0.09</td>\n      <td>-0.14</td>\n      <td>-0.02</td>\n      <td>0.02</td>\n      <td>0.15</td>\n      <td>-0.16</td>\n      <td>-0.06</td>\n      <td>1.00</td>\n      <td>-0.14</td>\n      <td>-0.03</td>\n      <td>...</td>\n      <td>-0.09</td>\n      <td>-0.10</td>\n      <td>0.18</td>\n      <td>0.13</td>\n      <td>-0.15</td>\n      <td>-0.12</td>\n      <td>0.06</td>\n      <td>-0.13</td>\n      <td>0.11</td>\n      <td>0.01</td>\n    </tr>\n    <tr>\n      <th>History</th>\n      <td>-0.10</td>\n      <td>-0.04</td>\n      <td>-0.04</td>\n      <td>-0.07</td>\n      <td>-0.01</td>\n      <td>-0.12</td>\n      <td>-0.03</td>\n      <td>0.16</td>\n      <td>0.09</td>\n      <td>-0.03</td>\n      <td>...</td>\n      <td>-0.06</td>\n      <td>-0.03</td>\n      <td>-0.02</td>\n      <td>-0.01</td>\n      <td>-0.06</td>\n      <td>-0.09</td>\n      <td>-0.02</td>\n      <td>-0.08</td>\n      <td>0.08</td>\n      <td>0.02</td>\n    </tr>\n    <tr>\n      <th>Crime</th>\n      <td>-0.11</td>\n      <td>0.04</td>\n      <td>-0.08</td>\n      <td>-0.09</td>\n      <td>-0.00</td>\n      <td>-0.03</td>\n      <td>1.00</td>\n      <td>-0.06</td>\n      <td>-0.03</td>\n      <td>-0.10</td>\n      <td>...</td>\n      <td>-0.03</td>\n      <td>0.01</td>\n      <td>-0.03</td>\n      <td>-0.02</td>\n      <td>-0.07</td>\n      <td>-0.07</td>\n      <td>-0.06</td>\n      <td>0.05</td>\n      <td>-0.09</td>\n      <td>-0.07</td>\n    </tr>\n    <tr>\n      <th>Horror</th>\n      <td>-0.16</td>\n      <td>-0.04</td>\n      <td>-0.04</td>\n      <td>-0.07</td>\n      <td>-0.13</td>\n      <td>-0.02</td>\n      <td>-0.02</td>\n      <td>-0.15</td>\n      <td>-0.16</td>\n      <td>-0.12</td>\n      <td>...</td>\n      <td>-0.04</td>\n      <td>0.09</td>\n      <td>-0.03</td>\n      <td>-0.02</td>\n      <td>-0.03</td>\n      <td>0.08</td>\n      <td>-0.10</td>\n      <td>0.06</td>\n      <td>-0.10</td>\n      <td>-0.07</td>\n    </tr>\n  </tbody>\n</table>\n<p>24 rows × 24 columns</p>\n</div>"
     },
     "metadata": {},
     "execution_count": 85
    }
   ],
   "source": [
    "movie_title.corr().sort_values('domestic_gross', ascending=False)"
   ]
  },
  {
   "cell_type": "code",
   "execution_count": 86,
   "metadata": {},
   "outputs": [
    {
     "output_type": "execute_result",
     "data": {
      "text/plain": [
       "<matplotlib.collections.PathCollection at 0x1dc4d774a60>"
      ]
     },
     "metadata": {},
     "execution_count": 86
    },
    {
     "output_type": "display_data",
     "data": {
      "text/plain": "<Figure size 432x288 with 1 Axes>",
      "image/svg+xml": "<?xml version=\"1.0\" encoding=\"utf-8\" standalone=\"no\"?>\r\n<!DOCTYPE svg PUBLIC \"-//W3C//DTD SVG 1.1//EN\"\r\n  \"http://www.w3.org/Graphics/SVG/1.1/DTD/svg11.dtd\">\r\n<!-- Created with matplotlib (https://matplotlib.org/) -->\r\n<svg height=\"259.116562pt\" version=\"1.1\" viewBox=\"0 0 362.5625 259.116562\" width=\"362.5625pt\" xmlns=\"http://www.w3.org/2000/svg\" xmlns:xlink=\"http://www.w3.org/1999/xlink\">\r\n <metadata>\r\n  <rdf:RDF xmlns:cc=\"http://creativecommons.org/ns#\" xmlns:dc=\"http://purl.org/dc/elements/1.1/\" xmlns:rdf=\"http://www.w3.org/1999/02/22-rdf-syntax-ns#\">\r\n   <cc:Work>\r\n    <dc:type rdf:resource=\"http://purl.org/dc/dcmitype/StillImage\"/>\r\n    <dc:date>2021-06-07T16:34:59.376829</dc:date>\r\n    <dc:format>image/svg+xml</dc:format>\r\n    <dc:creator>\r\n     <cc:Agent>\r\n      <dc:title>Matplotlib v3.3.1, https://matplotlib.org/</dc:title>\r\n     </cc:Agent>\r\n    </dc:creator>\r\n   </cc:Work>\r\n  </rdf:RDF>\r\n </metadata>\r\n <defs>\r\n  <style type=\"text/css\">*{stroke-linecap:butt;stroke-linejoin:round;}</style>\r\n </defs>\r\n <g id=\"figure_1\">\r\n  <g id=\"patch_1\">\r\n   <path d=\"M 0 259.116562 \r\nL 362.5625 259.116562 \r\nL 362.5625 0 \r\nL 0 0 \r\nz\r\n\" style=\"fill:none;\"/>\r\n  </g>\r\n  <g id=\"axes_1\">\r\n   <g id=\"patch_2\">\r\n    <path d=\"M 20.5625 235.238437 \r\nL 355.3625 235.238437 \r\nL 355.3625 17.798437 \r\nL 20.5625 17.798437 \r\nz\r\n\" style=\"fill:#ffffff;\"/>\r\n   </g>\r\n   <g id=\"PathCollection_1\">\r\n    <defs>\r\n     <path d=\"M 0 3 \r\nC 0.795609 3 1.55874 2.683901 2.12132 2.12132 \r\nC 2.683901 1.55874 3 0.795609 3 0 \r\nC 3 -0.795609 2.683901 -1.55874 2.12132 -2.12132 \r\nC 1.55874 -2.683901 0.795609 -3 0 -3 \r\nC -0.795609 -3 -1.55874 -2.683901 -2.12132 -2.12132 \r\nC -2.683901 -1.55874 -3 -0.795609 -3 0 \r\nC -3 0.795609 -2.683901 1.55874 -2.12132 2.12132 \r\nC -1.55874 2.683901 -0.795609 3 0 3 \r\nz\r\n\" id=\"m5cbf65bff6\" style=\"stroke:#1f77b4;\"/>\r\n    </defs>\r\n    <g clip-path=\"url(#p087e982ca5)\">\r\n     <use style=\"fill:#1f77b4;stroke:#1f77b4;\" x=\"35.780682\" xlink:href=\"#m5cbf65bff6\" y=\"212.949757\"/>\r\n     <use style=\"fill:#1f77b4;stroke:#1f77b4;\" x=\"340.144318\" xlink:href=\"#m5cbf65bff6\" y=\"200.176211\"/>\r\n     <use style=\"fill:#1f77b4;stroke:#1f77b4;\" x=\"340.144318\" xlink:href=\"#m5cbf65bff6\" y=\"154.950729\"/>\r\n     <use style=\"fill:#1f77b4;stroke:#1f77b4;\" x=\"340.144318\" xlink:href=\"#m5cbf65bff6\" y=\"199.876322\"/>\r\n     <use style=\"fill:#1f77b4;stroke:#1f77b4;\" x=\"340.144318\" xlink:href=\"#m5cbf65bff6\" y=\"175.246804\"/>\r\n     <use style=\"fill:#1f77b4;stroke:#1f77b4;\" x=\"340.144318\" xlink:href=\"#m5cbf65bff6\" y=\"204.116518\"/>\r\n     <use style=\"fill:#1f77b4;stroke:#1f77b4;\" x=\"340.144318\" xlink:href=\"#m5cbf65bff6\" y=\"219.688654\"/>\r\n     <use style=\"fill:#1f77b4;stroke:#1f77b4;\" x=\"340.144318\" xlink:href=\"#m5cbf65bff6\" y=\"198.582187\"/>\r\n     <use style=\"fill:#1f77b4;stroke:#1f77b4;\" x=\"340.144318\" xlink:href=\"#m5cbf65bff6\" y=\"184.148153\"/>\r\n     <use style=\"fill:#1f77b4;stroke:#1f77b4;\" x=\"340.144318\" xlink:href=\"#m5cbf65bff6\" y=\"175.347167\"/>\r\n     <use style=\"fill:#1f77b4;stroke:#1f77b4;\" x=\"340.144318\" xlink:href=\"#m5cbf65bff6\" y=\"194.737831\"/>\r\n     <use style=\"fill:#1f77b4;stroke:#1f77b4;\" x=\"340.144318\" xlink:href=\"#m5cbf65bff6\" y=\"182.838883\"/>\r\n     <use style=\"fill:#1f77b4;stroke:#1f77b4;\" x=\"340.144318\" xlink:href=\"#m5cbf65bff6\" y=\"184.626008\"/>\r\n     <use style=\"fill:#1f77b4;stroke:#1f77b4;\" x=\"340.144318\" xlink:href=\"#m5cbf65bff6\" y=\"220.777721\"/>\r\n     <use style=\"fill:#1f77b4;stroke:#1f77b4;\" x=\"340.144318\" xlink:href=\"#m5cbf65bff6\" y=\"126.381164\"/>\r\n     <use style=\"fill:#1f77b4;stroke:#1f77b4;\" x=\"340.144318\" xlink:href=\"#m5cbf65bff6\" y=\"183.742027\"/>\r\n     <use style=\"fill:#1f77b4;stroke:#1f77b4;\" x=\"340.144318\" xlink:href=\"#m5cbf65bff6\" y=\"197.962081\"/>\r\n     <use style=\"fill:#1f77b4;stroke:#1f77b4;\" x=\"35.780682\" xlink:href=\"#m5cbf65bff6\" y=\"179.930007\"/>\r\n     <use style=\"fill:#1f77b4;stroke:#1f77b4;\" x=\"35.780682\" xlink:href=\"#m5cbf65bff6\" y=\"200.642445\"/>\r\n     <use style=\"fill:#1f77b4;stroke:#1f77b4;\" x=\"35.780682\" xlink:href=\"#m5cbf65bff6\" y=\"202.290962\"/>\r\n     <use style=\"fill:#1f77b4;stroke:#1f77b4;\" x=\"35.780682\" xlink:href=\"#m5cbf65bff6\" y=\"225.192771\"/>\r\n     <use style=\"fill:#1f77b4;stroke:#1f77b4;\" x=\"35.780682\" xlink:href=\"#m5cbf65bff6\" y=\"225.353983\"/>\r\n     <use style=\"fill:#1f77b4;stroke:#1f77b4;\" x=\"35.780682\" xlink:href=\"#m5cbf65bff6\" y=\"193.61034\"/>\r\n     <use style=\"fill:#1f77b4;stroke:#1f77b4;\" x=\"35.780682\" xlink:href=\"#m5cbf65bff6\" y=\"214.501603\"/>\r\n     <use style=\"fill:#1f77b4;stroke:#1f77b4;\" x=\"35.780682\" xlink:href=\"#m5cbf65bff6\" y=\"201.685437\"/>\r\n     <use style=\"fill:#1f77b4;stroke:#1f77b4;\" x=\"35.780682\" xlink:href=\"#m5cbf65bff6\" y=\"172.69291\"/>\r\n     <use style=\"fill:#1f77b4;stroke:#1f77b4;\" x=\"35.780682\" xlink:href=\"#m5cbf65bff6\" y=\"212.111766\"/>\r\n     <use style=\"fill:#1f77b4;stroke:#1f77b4;\" x=\"35.780682\" xlink:href=\"#m5cbf65bff6\" y=\"210.105395\"/>\r\n     <use style=\"fill:#1f77b4;stroke:#1f77b4;\" x=\"35.780682\" xlink:href=\"#m5cbf65bff6\" y=\"169.866724\"/>\r\n     <use style=\"fill:#1f77b4;stroke:#1f77b4;\" x=\"35.780682\" xlink:href=\"#m5cbf65bff6\" y=\"217.994571\"/>\r\n     <use style=\"fill:#1f77b4;stroke:#1f77b4;\" x=\"35.780682\" xlink:href=\"#m5cbf65bff6\" y=\"223.349802\"/>\r\n     <use style=\"fill:#1f77b4;stroke:#1f77b4;\" x=\"35.780682\" xlink:href=\"#m5cbf65bff6\" y=\"205.431054\"/>\r\n     <use style=\"fill:#1f77b4;stroke:#1f77b4;\" x=\"35.780682\" xlink:href=\"#m5cbf65bff6\" y=\"211.851818\"/>\r\n     <use style=\"fill:#1f77b4;stroke:#1f77b4;\" x=\"35.780682\" xlink:href=\"#m5cbf65bff6\" y=\"205.009497\"/>\r\n     <use style=\"fill:#1f77b4;stroke:#1f77b4;\" x=\"35.780682\" xlink:href=\"#m5cbf65bff6\" y=\"212.958148\"/>\r\n     <use style=\"fill:#1f77b4;stroke:#1f77b4;\" x=\"35.780682\" xlink:href=\"#m5cbf65bff6\" y=\"213.697624\"/>\r\n     <use style=\"fill:#1f77b4;stroke:#1f77b4;\" x=\"35.780682\" xlink:href=\"#m5cbf65bff6\" y=\"225.354801\"/>\r\n     <use style=\"fill:#1f77b4;stroke:#1f77b4;\" x=\"35.780682\" xlink:href=\"#m5cbf65bff6\" y=\"224.876189\"/>\r\n     <use style=\"fill:#1f77b4;stroke:#1f77b4;\" x=\"35.780682\" xlink:href=\"#m5cbf65bff6\" y=\"213.894223\"/>\r\n     <use style=\"fill:#1f77b4;stroke:#1f77b4;\" x=\"35.780682\" xlink:href=\"#m5cbf65bff6\" y=\"212.112112\"/>\r\n     <use style=\"fill:#1f77b4;stroke:#1f77b4;\" x=\"35.780682\" xlink:href=\"#m5cbf65bff6\" y=\"209.182696\"/>\r\n     <use style=\"fill:#1f77b4;stroke:#1f77b4;\" x=\"35.780682\" xlink:href=\"#m5cbf65bff6\" y=\"203.387627\"/>\r\n     <use style=\"fill:#1f77b4;stroke:#1f77b4;\" x=\"35.780682\" xlink:href=\"#m5cbf65bff6\" y=\"219.1894\"/>\r\n     <use style=\"fill:#1f77b4;stroke:#1f77b4;\" x=\"35.780682\" xlink:href=\"#m5cbf65bff6\" y=\"198.397887\"/>\r\n     <use style=\"fill:#1f77b4;stroke:#1f77b4;\" x=\"35.780682\" xlink:href=\"#m5cbf65bff6\" y=\"207.550765\"/>\r\n     <use style=\"fill:#1f77b4;stroke:#1f77b4;\" x=\"35.780682\" xlink:href=\"#m5cbf65bff6\" y=\"193.648641\"/>\r\n     <use style=\"fill:#1f77b4;stroke:#1f77b4;\" x=\"35.780682\" xlink:href=\"#m5cbf65bff6\" y=\"206.595021\"/>\r\n     <use style=\"fill:#1f77b4;stroke:#1f77b4;\" x=\"35.780682\" xlink:href=\"#m5cbf65bff6\" y=\"207.111366\"/>\r\n     <use style=\"fill:#1f77b4;stroke:#1f77b4;\" x=\"35.780682\" xlink:href=\"#m5cbf65bff6\" y=\"195.852628\"/>\r\n     <use style=\"fill:#1f77b4;stroke:#1f77b4;\" x=\"35.780682\" xlink:href=\"#m5cbf65bff6\" y=\"215.856782\"/>\r\n     <use style=\"fill:#1f77b4;stroke:#1f77b4;\" x=\"35.780682\" xlink:href=\"#m5cbf65bff6\" y=\"213.03633\"/>\r\n     <use style=\"fill:#1f77b4;stroke:#1f77b4;\" x=\"35.780682\" xlink:href=\"#m5cbf65bff6\" y=\"201.789104\"/>\r\n     <use style=\"fill:#1f77b4;stroke:#1f77b4;\" x=\"35.780682\" xlink:href=\"#m5cbf65bff6\" y=\"209.81699\"/>\r\n     <use style=\"fill:#1f77b4;stroke:#1f77b4;\" x=\"35.780682\" xlink:href=\"#m5cbf65bff6\" y=\"214.295741\"/>\r\n     <use style=\"fill:#1f77b4;stroke:#1f77b4;\" x=\"35.780682\" xlink:href=\"#m5cbf65bff6\" y=\"209.948546\"/>\r\n     <use style=\"fill:#1f77b4;stroke:#1f77b4;\" x=\"35.780682\" xlink:href=\"#m5cbf65bff6\" y=\"225.014788\"/>\r\n     <use style=\"fill:#1f77b4;stroke:#1f77b4;\" x=\"35.780682\" xlink:href=\"#m5cbf65bff6\" y=\"225.266997\"/>\r\n     <use style=\"fill:#1f77b4;stroke:#1f77b4;\" x=\"35.780682\" xlink:href=\"#m5cbf65bff6\" y=\"211.901987\"/>\r\n     <use style=\"fill:#1f77b4;stroke:#1f77b4;\" x=\"35.780682\" xlink:href=\"#m5cbf65bff6\" y=\"211.3178\"/>\r\n     <use style=\"fill:#1f77b4;stroke:#1f77b4;\" x=\"35.780682\" xlink:href=\"#m5cbf65bff6\" y=\"177.476939\"/>\r\n     <use style=\"fill:#1f77b4;stroke:#1f77b4;\" x=\"35.780682\" xlink:href=\"#m5cbf65bff6\" y=\"222.809369\"/>\r\n     <use style=\"fill:#1f77b4;stroke:#1f77b4;\" x=\"35.780682\" xlink:href=\"#m5cbf65bff6\" y=\"218.056257\"/>\r\n     <use style=\"fill:#1f77b4;stroke:#1f77b4;\" x=\"35.780682\" xlink:href=\"#m5cbf65bff6\" y=\"198.789003\"/>\r\n     <use style=\"fill:#1f77b4;stroke:#1f77b4;\" x=\"35.780682\" xlink:href=\"#m5cbf65bff6\" y=\"222.607863\"/>\r\n     <use style=\"fill:#1f77b4;stroke:#1f77b4;\" x=\"35.780682\" xlink:href=\"#m5cbf65bff6\" y=\"202.399454\"/>\r\n     <use style=\"fill:#1f77b4;stroke:#1f77b4;\" x=\"35.780682\" xlink:href=\"#m5cbf65bff6\" y=\"208.921821\"/>\r\n     <use style=\"fill:#1f77b4;stroke:#1f77b4;\" x=\"35.780682\" xlink:href=\"#m5cbf65bff6\" y=\"224.057925\"/>\r\n     <use style=\"fill:#1f77b4;stroke:#1f77b4;\" x=\"35.780682\" xlink:href=\"#m5cbf65bff6\" y=\"189.992315\"/>\r\n     <use style=\"fill:#1f77b4;stroke:#1f77b4;\" x=\"35.780682\" xlink:href=\"#m5cbf65bff6\" y=\"205.90003\"/>\r\n     <use style=\"fill:#1f77b4;stroke:#1f77b4;\" x=\"35.780682\" xlink:href=\"#m5cbf65bff6\" y=\"204.239865\"/>\r\n     <use style=\"fill:#1f77b4;stroke:#1f77b4;\" x=\"35.780682\" xlink:href=\"#m5cbf65bff6\" y=\"220.168332\"/>\r\n     <use style=\"fill:#1f77b4;stroke:#1f77b4;\" x=\"35.780682\" xlink:href=\"#m5cbf65bff6\" y=\"225.352454\"/>\r\n     <use style=\"fill:#1f77b4;stroke:#1f77b4;\" x=\"35.780682\" xlink:href=\"#m5cbf65bff6\" y=\"212.675156\"/>\r\n     <use style=\"fill:#1f77b4;stroke:#1f77b4;\" x=\"35.780682\" xlink:href=\"#m5cbf65bff6\" y=\"205.221986\"/>\r\n     <use style=\"fill:#1f77b4;stroke:#1f77b4;\" x=\"35.780682\" xlink:href=\"#m5cbf65bff6\" y=\"224.40894\"/>\r\n     <use style=\"fill:#1f77b4;stroke:#1f77b4;\" x=\"35.780682\" xlink:href=\"#m5cbf65bff6\" y=\"203.830089\"/>\r\n     <use style=\"fill:#1f77b4;stroke:#1f77b4;\" x=\"35.780682\" xlink:href=\"#m5cbf65bff6\" y=\"210.711134\"/>\r\n     <use style=\"fill:#1f77b4;stroke:#1f77b4;\" x=\"340.144318\" xlink:href=\"#m5cbf65bff6\" y=\"192.212979\"/>\r\n     <use style=\"fill:#1f77b4;stroke:#1f77b4;\" x=\"340.144318\" xlink:href=\"#m5cbf65bff6\" y=\"217.554305\"/>\r\n     <use style=\"fill:#1f77b4;stroke:#1f77b4;\" x=\"340.144318\" xlink:href=\"#m5cbf65bff6\" y=\"165.559607\"/>\r\n     <use style=\"fill:#1f77b4;stroke:#1f77b4;\" x=\"340.144318\" xlink:href=\"#m5cbf65bff6\" y=\"218.612915\"/>\r\n     <use style=\"fill:#1f77b4;stroke:#1f77b4;\" x=\"340.144318\" xlink:href=\"#m5cbf65bff6\" y=\"136.381095\"/>\r\n     <use style=\"fill:#1f77b4;stroke:#1f77b4;\" x=\"340.144318\" xlink:href=\"#m5cbf65bff6\" y=\"215.471911\"/>\r\n     <use style=\"fill:#1f77b4;stroke:#1f77b4;\" x=\"340.144318\" xlink:href=\"#m5cbf65bff6\" y=\"193.586929\"/>\r\n     <use style=\"fill:#1f77b4;stroke:#1f77b4;\" x=\"340.144318\" xlink:href=\"#m5cbf65bff6\" y=\"218.190949\"/>\r\n     <use style=\"fill:#1f77b4;stroke:#1f77b4;\" x=\"340.144318\" xlink:href=\"#m5cbf65bff6\" y=\"218.418855\"/>\r\n     <use style=\"fill:#1f77b4;stroke:#1f77b4;\" x=\"340.144318\" xlink:href=\"#m5cbf65bff6\" y=\"196.111946\"/>\r\n     <use style=\"fill:#1f77b4;stroke:#1f77b4;\" x=\"340.144318\" xlink:href=\"#m5cbf65bff6\" y=\"200.335631\"/>\r\n     <use style=\"fill:#1f77b4;stroke:#1f77b4;\" x=\"340.144318\" xlink:href=\"#m5cbf65bff6\" y=\"207.565531\"/>\r\n     <use style=\"fill:#1f77b4;stroke:#1f77b4;\" x=\"340.144318\" xlink:href=\"#m5cbf65bff6\" y=\"190.914548\"/>\r\n     <use style=\"fill:#1f77b4;stroke:#1f77b4;\" x=\"340.144318\" xlink:href=\"#m5cbf65bff6\" y=\"213.685832\"/>\r\n     <use style=\"fill:#1f77b4;stroke:#1f77b4;\" x=\"340.144318\" xlink:href=\"#m5cbf65bff6\" y=\"211.624479\"/>\r\n     <use style=\"fill:#1f77b4;stroke:#1f77b4;\" x=\"340.144318\" xlink:href=\"#m5cbf65bff6\" y=\"197.88343\"/>\r\n     <use style=\"fill:#1f77b4;stroke:#1f77b4;\" x=\"340.144318\" xlink:href=\"#m5cbf65bff6\" y=\"204.686348\"/>\r\n     <use style=\"fill:#1f77b4;stroke:#1f77b4;\" x=\"340.144318\" xlink:href=\"#m5cbf65bff6\" y=\"208.548168\"/>\r\n     <use style=\"fill:#1f77b4;stroke:#1f77b4;\" x=\"340.144318\" xlink:href=\"#m5cbf65bff6\" y=\"224.266953\"/>\r\n     <use style=\"fill:#1f77b4;stroke:#1f77b4;\" x=\"340.144318\" xlink:href=\"#m5cbf65bff6\" y=\"225.354801\"/>\r\n     <use style=\"fill:#1f77b4;stroke:#1f77b4;\" x=\"340.144318\" xlink:href=\"#m5cbf65bff6\" y=\"214.16028\"/>\r\n     <use style=\"fill:#1f77b4;stroke:#1f77b4;\" x=\"340.144318\" xlink:href=\"#m5cbf65bff6\" y=\"208.875966\"/>\r\n     <use style=\"fill:#1f77b4;stroke:#1f77b4;\" x=\"340.144318\" xlink:href=\"#m5cbf65bff6\" y=\"220.685927\"/>\r\n     <use style=\"fill:#1f77b4;stroke:#1f77b4;\" x=\"340.144318\" xlink:href=\"#m5cbf65bff6\" y=\"225.354801\"/>\r\n     <use style=\"fill:#1f77b4;stroke:#1f77b4;\" x=\"340.144318\" xlink:href=\"#m5cbf65bff6\" y=\"225.338321\"/>\r\n     <use style=\"fill:#1f77b4;stroke:#1f77b4;\" x=\"340.144318\" xlink:href=\"#m5cbf65bff6\" y=\"221.709711\"/>\r\n     <use style=\"fill:#1f77b4;stroke:#1f77b4;\" x=\"340.144318\" xlink:href=\"#m5cbf65bff6\" y=\"204.24638\"/>\r\n     <use style=\"fill:#1f77b4;stroke:#1f77b4;\" x=\"340.144318\" xlink:href=\"#m5cbf65bff6\" y=\"186.944359\"/>\r\n     <use style=\"fill:#1f77b4;stroke:#1f77b4;\" x=\"340.144318\" xlink:href=\"#m5cbf65bff6\" y=\"180.237511\"/>\r\n     <use style=\"fill:#1f77b4;stroke:#1f77b4;\" x=\"340.144318\" xlink:href=\"#m5cbf65bff6\" y=\"222.165262\"/>\r\n     <use style=\"fill:#1f77b4;stroke:#1f77b4;\" x=\"340.144318\" xlink:href=\"#m5cbf65bff6\" y=\"220.453469\"/>\r\n     <use style=\"fill:#1f77b4;stroke:#1f77b4;\" x=\"340.144318\" xlink:href=\"#m5cbf65bff6\" y=\"225.350354\"/>\r\n     <use style=\"fill:#1f77b4;stroke:#1f77b4;\" x=\"340.144318\" xlink:href=\"#m5cbf65bff6\" y=\"224.518708\"/>\r\n     <use style=\"fill:#1f77b4;stroke:#1f77b4;\" x=\"340.144318\" xlink:href=\"#m5cbf65bff6\" y=\"175.50275\"/>\r\n     <use style=\"fill:#1f77b4;stroke:#1f77b4;\" x=\"340.144318\" xlink:href=\"#m5cbf65bff6\" y=\"45.335379\"/>\r\n     <use style=\"fill:#1f77b4;stroke:#1f77b4;\" x=\"340.144318\" xlink:href=\"#m5cbf65bff6\" y=\"209.9451\"/>\r\n     <use style=\"fill:#1f77b4;stroke:#1f77b4;\" x=\"340.144318\" xlink:href=\"#m5cbf65bff6\" y=\"148.429064\"/>\r\n     <use style=\"fill:#1f77b4;stroke:#1f77b4;\" x=\"340.144318\" xlink:href=\"#m5cbf65bff6\" y=\"221.745531\"/>\r\n     <use style=\"fill:#1f77b4;stroke:#1f77b4;\" x=\"340.144318\" xlink:href=\"#m5cbf65bff6\" y=\"172.823206\"/>\r\n     <use style=\"fill:#1f77b4;stroke:#1f77b4;\" x=\"340.144318\" xlink:href=\"#m5cbf65bff6\" y=\"207.864502\"/>\r\n     <use style=\"fill:#1f77b4;stroke:#1f77b4;\" x=\"340.144318\" xlink:href=\"#m5cbf65bff6\" y=\"138.704171\"/>\r\n     <use style=\"fill:#1f77b4;stroke:#1f77b4;\" x=\"340.144318\" xlink:href=\"#m5cbf65bff6\" y=\"224.878398\"/>\r\n     <use style=\"fill:#1f77b4;stroke:#1f77b4;\" x=\"340.144318\" xlink:href=\"#m5cbf65bff6\" y=\"225.354801\"/>\r\n     <use style=\"fill:#1f77b4;stroke:#1f77b4;\" x=\"340.144318\" xlink:href=\"#m5cbf65bff6\" y=\"222.123882\"/>\r\n     <use style=\"fill:#1f77b4;stroke:#1f77b4;\" x=\"340.144318\" xlink:href=\"#m5cbf65bff6\" y=\"220.58806\"/>\r\n     <use style=\"fill:#1f77b4;stroke:#1f77b4;\" x=\"340.144318\" xlink:href=\"#m5cbf65bff6\" y=\"225.343982\"/>\r\n     <use style=\"fill:#1f77b4;stroke:#1f77b4;\" x=\"340.144318\" xlink:href=\"#m5cbf65bff6\" y=\"168.538799\"/>\r\n     <use style=\"fill:#1f77b4;stroke:#1f77b4;\" x=\"340.144318\" xlink:href=\"#m5cbf65bff6\" y=\"199.217415\"/>\r\n     <use style=\"fill:#1f77b4;stroke:#1f77b4;\" x=\"35.780682\" xlink:href=\"#m5cbf65bff6\" y=\"193.621766\"/>\r\n     <use style=\"fill:#1f77b4;stroke:#1f77b4;\" x=\"35.780682\" xlink:href=\"#m5cbf65bff6\" y=\"221.817507\"/>\r\n     <use style=\"fill:#1f77b4;stroke:#1f77b4;\" x=\"35.780682\" xlink:href=\"#m5cbf65bff6\" y=\"161.909174\"/>\r\n     <use style=\"fill:#1f77b4;stroke:#1f77b4;\" x=\"35.780682\" xlink:href=\"#m5cbf65bff6\" y=\"191.215572\"/>\r\n     <use style=\"fill:#1f77b4;stroke:#1f77b4;\" x=\"35.780682\" xlink:href=\"#m5cbf65bff6\" y=\"163.475653\"/>\r\n     <use style=\"fill:#1f77b4;stroke:#1f77b4;\" x=\"35.780682\" xlink:href=\"#m5cbf65bff6\" y=\"215.821318\"/>\r\n     <use style=\"fill:#1f77b4;stroke:#1f77b4;\" x=\"35.780682\" xlink:href=\"#m5cbf65bff6\" y=\"213.87535\"/>\r\n     <use style=\"fill:#1f77b4;stroke:#1f77b4;\" x=\"35.780682\" xlink:href=\"#m5cbf65bff6\" y=\"223.67435\"/>\r\n     <use style=\"fill:#1f77b4;stroke:#1f77b4;\" x=\"35.780682\" xlink:href=\"#m5cbf65bff6\" y=\"183.818712\"/>\r\n     <use style=\"fill:#1f77b4;stroke:#1f77b4;\" x=\"35.780682\" xlink:href=\"#m5cbf65bff6\" y=\"205.593218\"/>\r\n     <use style=\"fill:#1f77b4;stroke:#1f77b4;\" x=\"35.780682\" xlink:href=\"#m5cbf65bff6\" y=\"205.593218\"/>\r\n     <use style=\"fill:#1f77b4;stroke:#1f77b4;\" x=\"35.780682\" xlink:href=\"#m5cbf65bff6\" y=\"216.040911\"/>\r\n     <use style=\"fill:#1f77b4;stroke:#1f77b4;\" x=\"35.780682\" xlink:href=\"#m5cbf65bff6\" y=\"225.354801\"/>\r\n     <use style=\"fill:#1f77b4;stroke:#1f77b4;\" x=\"35.780682\" xlink:href=\"#m5cbf65bff6\" y=\"225.170138\"/>\r\n     <use style=\"fill:#1f77b4;stroke:#1f77b4;\" x=\"35.780682\" xlink:href=\"#m5cbf65bff6\" y=\"222.352782\"/>\r\n     <use style=\"fill:#1f77b4;stroke:#1f77b4;\" x=\"35.780682\" xlink:href=\"#m5cbf65bff6\" y=\"210.768057\"/>\r\n     <use style=\"fill:#1f77b4;stroke:#1f77b4;\" x=\"35.780682\" xlink:href=\"#m5cbf65bff6\" y=\"214.864295\"/>\r\n     <use style=\"fill:#1f77b4;stroke:#1f77b4;\" x=\"35.780682\" xlink:href=\"#m5cbf65bff6\" y=\"223.619286\"/>\r\n     <use style=\"fill:#1f77b4;stroke:#1f77b4;\" x=\"35.780682\" xlink:href=\"#m5cbf65bff6\" y=\"215.161226\"/>\r\n     <use style=\"fill:#1f77b4;stroke:#1f77b4;\" x=\"35.780682\" xlink:href=\"#m5cbf65bff6\" y=\"211.23536\"/>\r\n     <use style=\"fill:#1f77b4;stroke:#1f77b4;\" x=\"35.780682\" xlink:href=\"#m5cbf65bff6\" y=\"212.671739\"/>\r\n     <use style=\"fill:#1f77b4;stroke:#1f77b4;\" x=\"35.780682\" xlink:href=\"#m5cbf65bff6\" y=\"218.561348\"/>\r\n     <use style=\"fill:#1f77b4;stroke:#1f77b4;\" x=\"35.780682\" xlink:href=\"#m5cbf65bff6\" y=\"183.955188\"/>\r\n     <use style=\"fill:#1f77b4;stroke:#1f77b4;\" x=\"35.780682\" xlink:href=\"#m5cbf65bff6\" y=\"208.724248\"/>\r\n     <use style=\"fill:#1f77b4;stroke:#1f77b4;\" x=\"35.780682\" xlink:href=\"#m5cbf65bff6\" y=\"211.014501\"/>\r\n     <use style=\"fill:#1f77b4;stroke:#1f77b4;\" x=\"35.780682\" xlink:href=\"#m5cbf65bff6\" y=\"225.354801\"/>\r\n     <use style=\"fill:#1f77b4;stroke:#1f77b4;\" x=\"35.780682\" xlink:href=\"#m5cbf65bff6\" y=\"209.589535\"/>\r\n     <use style=\"fill:#1f77b4;stroke:#1f77b4;\" x=\"35.780682\" xlink:href=\"#m5cbf65bff6\" y=\"204.987761\"/>\r\n     <use style=\"fill:#1f77b4;stroke:#1f77b4;\" x=\"35.780682\" xlink:href=\"#m5cbf65bff6\" y=\"214.083062\"/>\r\n     <use style=\"fill:#1f77b4;stroke:#1f77b4;\" x=\"35.780682\" xlink:href=\"#m5cbf65bff6\" y=\"206.550393\"/>\r\n     <use style=\"fill:#1f77b4;stroke:#1f77b4;\" x=\"35.780682\" xlink:href=\"#m5cbf65bff6\" y=\"205.185746\"/>\r\n     <use style=\"fill:#1f77b4;stroke:#1f77b4;\" x=\"35.780682\" xlink:href=\"#m5cbf65bff6\" y=\"147.037754\"/>\r\n     <use style=\"fill:#1f77b4;stroke:#1f77b4;\" x=\"35.780682\" xlink:href=\"#m5cbf65bff6\" y=\"225.354801\"/>\r\n     <use style=\"fill:#1f77b4;stroke:#1f77b4;\" x=\"35.780682\" xlink:href=\"#m5cbf65bff6\" y=\"219.475629\"/>\r\n     <use style=\"fill:#1f77b4;stroke:#1f77b4;\" x=\"35.780682\" xlink:href=\"#m5cbf65bff6\" y=\"208.107532\"/>\r\n     <use style=\"fill:#1f77b4;stroke:#1f77b4;\" x=\"35.780682\" xlink:href=\"#m5cbf65bff6\" y=\"203.348978\"/>\r\n     <use style=\"fill:#1f77b4;stroke:#1f77b4;\" x=\"35.780682\" xlink:href=\"#m5cbf65bff6\" y=\"222.985454\"/>\r\n     <use style=\"fill:#1f77b4;stroke:#1f77b4;\" x=\"35.780682\" xlink:href=\"#m5cbf65bff6\" y=\"194.049404\"/>\r\n     <use style=\"fill:#1f77b4;stroke:#1f77b4;\" x=\"35.780682\" xlink:href=\"#m5cbf65bff6\" y=\"224.45632\"/>\r\n     <use style=\"fill:#1f77b4;stroke:#1f77b4;\" x=\"35.780682\" xlink:href=\"#m5cbf65bff6\" y=\"211.196427\"/>\r\n     <use style=\"fill:#1f77b4;stroke:#1f77b4;\" x=\"35.780682\" xlink:href=\"#m5cbf65bff6\" y=\"200.66941\"/>\r\n     <use style=\"fill:#1f77b4;stroke:#1f77b4;\" x=\"35.780682\" xlink:href=\"#m5cbf65bff6\" y=\"212.627597\"/>\r\n     <use style=\"fill:#1f77b4;stroke:#1f77b4;\" x=\"35.780682\" xlink:href=\"#m5cbf65bff6\" y=\"225.354801\"/>\r\n     <use style=\"fill:#1f77b4;stroke:#1f77b4;\" x=\"35.780682\" xlink:href=\"#m5cbf65bff6\" y=\"210.547928\"/>\r\n     <use style=\"fill:#1f77b4;stroke:#1f77b4;\" x=\"35.780682\" xlink:href=\"#m5cbf65bff6\" y=\"219.565887\"/>\r\n     <use style=\"fill:#1f77b4;stroke:#1f77b4;\" x=\"35.780682\" xlink:href=\"#m5cbf65bff6\" y=\"217.397373\"/>\r\n     <use style=\"fill:#1f77b4;stroke:#1f77b4;\" x=\"35.780682\" xlink:href=\"#m5cbf65bff6\" y=\"197.569279\"/>\r\n     <use style=\"fill:#1f77b4;stroke:#1f77b4;\" x=\"35.780682\" xlink:href=\"#m5cbf65bff6\" y=\"214.485165\"/>\r\n     <use style=\"fill:#1f77b4;stroke:#1f77b4;\" x=\"35.780682\" xlink:href=\"#m5cbf65bff6\" y=\"196.162848\"/>\r\n     <use style=\"fill:#1f77b4;stroke:#1f77b4;\" x=\"35.780682\" xlink:href=\"#m5cbf65bff6\" y=\"210.340578\"/>\r\n     <use style=\"fill:#1f77b4;stroke:#1f77b4;\" x=\"35.780682\" xlink:href=\"#m5cbf65bff6\" y=\"208.464172\"/>\r\n     <use style=\"fill:#1f77b4;stroke:#1f77b4;\" x=\"35.780682\" xlink:href=\"#m5cbf65bff6\" y=\"224.737662\"/>\r\n     <use style=\"fill:#1f77b4;stroke:#1f77b4;\" x=\"35.780682\" xlink:href=\"#m5cbf65bff6\" y=\"208.765431\"/>\r\n     <use style=\"fill:#1f77b4;stroke:#1f77b4;\" x=\"35.780682\" xlink:href=\"#m5cbf65bff6\" y=\"218.991846\"/>\r\n     <use style=\"fill:#1f77b4;stroke:#1f77b4;\" x=\"35.780682\" xlink:href=\"#m5cbf65bff6\" y=\"219.427741\"/>\r\n     <use style=\"fill:#1f77b4;stroke:#1f77b4;\" x=\"35.780682\" xlink:href=\"#m5cbf65bff6\" y=\"215.882923\"/>\r\n     <use style=\"fill:#1f77b4;stroke:#1f77b4;\" x=\"35.780682\" xlink:href=\"#m5cbf65bff6\" y=\"218.521478\"/>\r\n     <use style=\"fill:#1f77b4;stroke:#1f77b4;\" x=\"35.780682\" xlink:href=\"#m5cbf65bff6\" y=\"215.650599\"/>\r\n     <use style=\"fill:#1f77b4;stroke:#1f77b4;\" x=\"35.780682\" xlink:href=\"#m5cbf65bff6\" y=\"206.273544\"/>\r\n     <use style=\"fill:#1f77b4;stroke:#1f77b4;\" x=\"35.780682\" xlink:href=\"#m5cbf65bff6\" y=\"173.249648\"/>\r\n     <use style=\"fill:#1f77b4;stroke:#1f77b4;\" x=\"35.780682\" xlink:href=\"#m5cbf65bff6\" y=\"201.532023\"/>\r\n     <use style=\"fill:#1f77b4;stroke:#1f77b4;\" x=\"35.780682\" xlink:href=\"#m5cbf65bff6\" y=\"180.475378\"/>\r\n     <use style=\"fill:#1f77b4;stroke:#1f77b4;\" x=\"35.780682\" xlink:href=\"#m5cbf65bff6\" y=\"214.661738\"/>\r\n     <use style=\"fill:#1f77b4;stroke:#1f77b4;\" x=\"35.780682\" xlink:href=\"#m5cbf65bff6\" y=\"225.353707\"/>\r\n     <use style=\"fill:#1f77b4;stroke:#1f77b4;\" x=\"35.780682\" xlink:href=\"#m5cbf65bff6\" y=\"208.747719\"/>\r\n     <use style=\"fill:#1f77b4;stroke:#1f77b4;\" x=\"35.780682\" xlink:href=\"#m5cbf65bff6\" y=\"217.496557\"/>\r\n     <use style=\"fill:#1f77b4;stroke:#1f77b4;\" x=\"35.780682\" xlink:href=\"#m5cbf65bff6\" y=\"225.351658\"/>\r\n     <use style=\"fill:#1f77b4;stroke:#1f77b4;\" x=\"35.780682\" xlink:href=\"#m5cbf65bff6\" y=\"223.190684\"/>\r\n     <use style=\"fill:#1f77b4;stroke:#1f77b4;\" x=\"35.780682\" xlink:href=\"#m5cbf65bff6\" y=\"225.354801\"/>\r\n     <use style=\"fill:#1f77b4;stroke:#1f77b4;\" x=\"35.780682\" xlink:href=\"#m5cbf65bff6\" y=\"214.534318\"/>\r\n     <use style=\"fill:#1f77b4;stroke:#1f77b4;\" x=\"35.780682\" xlink:href=\"#m5cbf65bff6\" y=\"225.344176\"/>\r\n     <use style=\"fill:#1f77b4;stroke:#1f77b4;\" x=\"35.780682\" xlink:href=\"#m5cbf65bff6\" y=\"222.532626\"/>\r\n     <use style=\"fill:#1f77b4;stroke:#1f77b4;\" x=\"35.780682\" xlink:href=\"#m5cbf65bff6\" y=\"180.629003\"/>\r\n     <use style=\"fill:#1f77b4;stroke:#1f77b4;\" x=\"35.780682\" xlink:href=\"#m5cbf65bff6\" y=\"216.181123\"/>\r\n     <use style=\"fill:#1f77b4;stroke:#1f77b4;\" x=\"35.780682\" xlink:href=\"#m5cbf65bff6\" y=\"223.997859\"/>\r\n     <use style=\"fill:#1f77b4;stroke:#1f77b4;\" x=\"35.780682\" xlink:href=\"#m5cbf65bff6\" y=\"177.307688\"/>\r\n     <use style=\"fill:#1f77b4;stroke:#1f77b4;\" x=\"35.780682\" xlink:href=\"#m5cbf65bff6\" y=\"167.950334\"/>\r\n     <use style=\"fill:#1f77b4;stroke:#1f77b4;\" x=\"35.780682\" xlink:href=\"#m5cbf65bff6\" y=\"209.630579\"/>\r\n     <use style=\"fill:#1f77b4;stroke:#1f77b4;\" x=\"35.780682\" xlink:href=\"#m5cbf65bff6\" y=\"225.087511\"/>\r\n     <use style=\"fill:#1f77b4;stroke:#1f77b4;\" x=\"35.780682\" xlink:href=\"#m5cbf65bff6\" y=\"209.077007\"/>\r\n     <use style=\"fill:#1f77b4;stroke:#1f77b4;\" x=\"35.780682\" xlink:href=\"#m5cbf65bff6\" y=\"143.235132\"/>\r\n     <use style=\"fill:#1f77b4;stroke:#1f77b4;\" x=\"35.780682\" xlink:href=\"#m5cbf65bff6\" y=\"201.144561\"/>\r\n     <use style=\"fill:#1f77b4;stroke:#1f77b4;\" x=\"35.780682\" xlink:href=\"#m5cbf65bff6\" y=\"225.354801\"/>\r\n     <use style=\"fill:#1f77b4;stroke:#1f77b4;\" x=\"35.780682\" xlink:href=\"#m5cbf65bff6\" y=\"211.191821\"/>\r\n     <use style=\"fill:#1f77b4;stroke:#1f77b4;\" x=\"35.780682\" xlink:href=\"#m5cbf65bff6\" y=\"206.276463\"/>\r\n     <use style=\"fill:#1f77b4;stroke:#1f77b4;\" x=\"35.780682\" xlink:href=\"#m5cbf65bff6\" y=\"220.872834\"/>\r\n     <use style=\"fill:#1f77b4;stroke:#1f77b4;\" x=\"35.780682\" xlink:href=\"#m5cbf65bff6\" y=\"224.027473\"/>\r\n     <use style=\"fill:#1f77b4;stroke:#1f77b4;\" x=\"35.780682\" xlink:href=\"#m5cbf65bff6\" y=\"211.033053\"/>\r\n     <use style=\"fill:#1f77b4;stroke:#1f77b4;\" x=\"35.780682\" xlink:href=\"#m5cbf65bff6\" y=\"224.276954\"/>\r\n     <use style=\"fill:#1f77b4;stroke:#1f77b4;\" x=\"35.780682\" xlink:href=\"#m5cbf65bff6\" y=\"219.107377\"/>\r\n     <use style=\"fill:#1f77b4;stroke:#1f77b4;\" x=\"35.780682\" xlink:href=\"#m5cbf65bff6\" y=\"225.354801\"/>\r\n     <use style=\"fill:#1f77b4;stroke:#1f77b4;\" x=\"35.780682\" xlink:href=\"#m5cbf65bff6\" y=\"210.793041\"/>\r\n     <use style=\"fill:#1f77b4;stroke:#1f77b4;\" x=\"35.780682\" xlink:href=\"#m5cbf65bff6\" y=\"194.207902\"/>\r\n     <use style=\"fill:#1f77b4;stroke:#1f77b4;\" x=\"35.780682\" xlink:href=\"#m5cbf65bff6\" y=\"216.638205\"/>\r\n     <use style=\"fill:#1f77b4;stroke:#1f77b4;\" x=\"35.780682\" xlink:href=\"#m5cbf65bff6\" y=\"223.414423\"/>\r\n     <use style=\"fill:#1f77b4;stroke:#1f77b4;\" x=\"35.780682\" xlink:href=\"#m5cbf65bff6\" y=\"217.404432\"/>\r\n     <use style=\"fill:#1f77b4;stroke:#1f77b4;\" x=\"35.780682\" xlink:href=\"#m5cbf65bff6\" y=\"205.723899\"/>\r\n     <use style=\"fill:#1f77b4;stroke:#1f77b4;\" x=\"35.780682\" xlink:href=\"#m5cbf65bff6\" y=\"214.129312\"/>\r\n     <use style=\"fill:#1f77b4;stroke:#1f77b4;\" x=\"35.780682\" xlink:href=\"#m5cbf65bff6\" y=\"225.296161\"/>\r\n     <use style=\"fill:#1f77b4;stroke:#1f77b4;\" x=\"35.780682\" xlink:href=\"#m5cbf65bff6\" y=\"216.418157\"/>\r\n     <use style=\"fill:#1f77b4;stroke:#1f77b4;\" x=\"35.780682\" xlink:href=\"#m5cbf65bff6\" y=\"171.484313\"/>\r\n     <use style=\"fill:#1f77b4;stroke:#1f77b4;\" x=\"35.780682\" xlink:href=\"#m5cbf65bff6\" y=\"210.487554\"/>\r\n     <use style=\"fill:#1f77b4;stroke:#1f77b4;\" x=\"35.780682\" xlink:href=\"#m5cbf65bff6\" y=\"217.730896\"/>\r\n     <use style=\"fill:#1f77b4;stroke:#1f77b4;\" x=\"35.780682\" xlink:href=\"#m5cbf65bff6\" y=\"224.963272\"/>\r\n     <use style=\"fill:#1f77b4;stroke:#1f77b4;\" x=\"35.780682\" xlink:href=\"#m5cbf65bff6\" y=\"215.282313\"/>\r\n     <use style=\"fill:#1f77b4;stroke:#1f77b4;\" x=\"35.780682\" xlink:href=\"#m5cbf65bff6\" y=\"220.681917\"/>\r\n     <use style=\"fill:#1f77b4;stroke:#1f77b4;\" x=\"35.780682\" xlink:href=\"#m5cbf65bff6\" y=\"212.450312\"/>\r\n     <use style=\"fill:#1f77b4;stroke:#1f77b4;\" x=\"35.780682\" xlink:href=\"#m5cbf65bff6\" y=\"214.214102\"/>\r\n     <use style=\"fill:#1f77b4;stroke:#1f77b4;\" x=\"35.780682\" xlink:href=\"#m5cbf65bff6\" y=\"206.068327\"/>\r\n     <use style=\"fill:#1f77b4;stroke:#1f77b4;\" x=\"35.780682\" xlink:href=\"#m5cbf65bff6\" y=\"225.239837\"/>\r\n     <use style=\"fill:#1f77b4;stroke:#1f77b4;\" x=\"35.780682\" xlink:href=\"#m5cbf65bff6\" y=\"223.834702\"/>\r\n     <use style=\"fill:#1f77b4;stroke:#1f77b4;\" x=\"35.780682\" xlink:href=\"#m5cbf65bff6\" y=\"225.354801\"/>\r\n     <use style=\"fill:#1f77b4;stroke:#1f77b4;\" x=\"35.780682\" xlink:href=\"#m5cbf65bff6\" y=\"172.857489\"/>\r\n     <use style=\"fill:#1f77b4;stroke:#1f77b4;\" x=\"35.780682\" xlink:href=\"#m5cbf65bff6\" y=\"202.103817\"/>\r\n     <use style=\"fill:#1f77b4;stroke:#1f77b4;\" x=\"35.780682\" xlink:href=\"#m5cbf65bff6\" y=\"209.383648\"/>\r\n     <use style=\"fill:#1f77b4;stroke:#1f77b4;\" x=\"35.780682\" xlink:href=\"#m5cbf65bff6\" y=\"225.354801\"/>\r\n     <use style=\"fill:#1f77b4;stroke:#1f77b4;\" x=\"35.780682\" xlink:href=\"#m5cbf65bff6\" y=\"210.974569\"/>\r\n     <use style=\"fill:#1f77b4;stroke:#1f77b4;\" x=\"35.780682\" xlink:href=\"#m5cbf65bff6\" y=\"207.056046\"/>\r\n     <use style=\"fill:#1f77b4;stroke:#1f77b4;\" x=\"35.780682\" xlink:href=\"#m5cbf65bff6\" y=\"214.911548\"/>\r\n     <use style=\"fill:#1f77b4;stroke:#1f77b4;\" x=\"35.780682\" xlink:href=\"#m5cbf65bff6\" y=\"224.272832\"/>\r\n     <use style=\"fill:#1f77b4;stroke:#1f77b4;\" x=\"35.780682\" xlink:href=\"#m5cbf65bff6\" y=\"225.129404\"/>\r\n     <use style=\"fill:#1f77b4;stroke:#1f77b4;\" x=\"35.780682\" xlink:href=\"#m5cbf65bff6\" y=\"225.354801\"/>\r\n     <use style=\"fill:#1f77b4;stroke:#1f77b4;\" x=\"35.780682\" xlink:href=\"#m5cbf65bff6\" y=\"204.401456\"/>\r\n     <use style=\"fill:#1f77b4;stroke:#1f77b4;\" x=\"35.780682\" xlink:href=\"#m5cbf65bff6\" y=\"224.875268\"/>\r\n     <use style=\"fill:#1f77b4;stroke:#1f77b4;\" x=\"35.780682\" xlink:href=\"#m5cbf65bff6\" y=\"215.694353\"/>\r\n     <use style=\"fill:#1f77b4;stroke:#1f77b4;\" x=\"35.780682\" xlink:href=\"#m5cbf65bff6\" y=\"221.857419\"/>\r\n     <use style=\"fill:#1f77b4;stroke:#1f77b4;\" x=\"35.780682\" xlink:href=\"#m5cbf65bff6\" y=\"225.354801\"/>\r\n     <use style=\"fill:#1f77b4;stroke:#1f77b4;\" x=\"35.780682\" xlink:href=\"#m5cbf65bff6\" y=\"141.043532\"/>\r\n     <use style=\"fill:#1f77b4;stroke:#1f77b4;\" x=\"35.780682\" xlink:href=\"#m5cbf65bff6\" y=\"225.208584\"/>\r\n     <use style=\"fill:#1f77b4;stroke:#1f77b4;\" x=\"35.780682\" xlink:href=\"#m5cbf65bff6\" y=\"211.970165\"/>\r\n     <use style=\"fill:#1f77b4;stroke:#1f77b4;\" x=\"35.780682\" xlink:href=\"#m5cbf65bff6\" y=\"215.353162\"/>\r\n     <use style=\"fill:#1f77b4;stroke:#1f77b4;\" x=\"35.780682\" xlink:href=\"#m5cbf65bff6\" y=\"209.768393\"/>\r\n     <use style=\"fill:#1f77b4;stroke:#1f77b4;\" x=\"35.780682\" xlink:href=\"#m5cbf65bff6\" y=\"161.082384\"/>\r\n     <use style=\"fill:#1f77b4;stroke:#1f77b4;\" x=\"35.780682\" xlink:href=\"#m5cbf65bff6\" y=\"222.84794\"/>\r\n     <use style=\"fill:#1f77b4;stroke:#1f77b4;\" x=\"35.780682\" xlink:href=\"#m5cbf65bff6\" y=\"222.202093\"/>\r\n     <use style=\"fill:#1f77b4;stroke:#1f77b4;\" x=\"35.780682\" xlink:href=\"#m5cbf65bff6\" y=\"221.119995\"/>\r\n     <use style=\"fill:#1f77b4;stroke:#1f77b4;\" x=\"35.780682\" xlink:href=\"#m5cbf65bff6\" y=\"215.367509\"/>\r\n     <use style=\"fill:#1f77b4;stroke:#1f77b4;\" x=\"35.780682\" xlink:href=\"#m5cbf65bff6\" y=\"222.772803\"/>\r\n     <use style=\"fill:#1f77b4;stroke:#1f77b4;\" x=\"35.780682\" xlink:href=\"#m5cbf65bff6\" y=\"213.707185\"/>\r\n     <use style=\"fill:#1f77b4;stroke:#1f77b4;\" x=\"35.780682\" xlink:href=\"#m5cbf65bff6\" y=\"212.447079\"/>\r\n     <use style=\"fill:#1f77b4;stroke:#1f77b4;\" x=\"35.780682\" xlink:href=\"#m5cbf65bff6\" y=\"216.18341\"/>\r\n     <use style=\"fill:#1f77b4;stroke:#1f77b4;\" x=\"35.780682\" xlink:href=\"#m5cbf65bff6\" y=\"202.680506\"/>\r\n     <use style=\"fill:#1f77b4;stroke:#1f77b4;\" x=\"35.780682\" xlink:href=\"#m5cbf65bff6\" y=\"216.831134\"/>\r\n     <use style=\"fill:#1f77b4;stroke:#1f77b4;\" x=\"35.780682\" xlink:href=\"#m5cbf65bff6\" y=\"204.536083\"/>\r\n     <use style=\"fill:#1f77b4;stroke:#1f77b4;\" x=\"35.780682\" xlink:href=\"#m5cbf65bff6\" y=\"178.804959\"/>\r\n     <use style=\"fill:#1f77b4;stroke:#1f77b4;\" x=\"35.780682\" xlink:href=\"#m5cbf65bff6\" y=\"216.251617\"/>\r\n     <use style=\"fill:#1f77b4;stroke:#1f77b4;\" x=\"35.780682\" xlink:href=\"#m5cbf65bff6\" y=\"225.319258\"/>\r\n     <use style=\"fill:#1f77b4;stroke:#1f77b4;\" x=\"35.780682\" xlink:href=\"#m5cbf65bff6\" y=\"220.016874\"/>\r\n     <use style=\"fill:#1f77b4;stroke:#1f77b4;\" x=\"35.780682\" xlink:href=\"#m5cbf65bff6\" y=\"225.066654\"/>\r\n     <use style=\"fill:#1f77b4;stroke:#1f77b4;\" x=\"35.780682\" xlink:href=\"#m5cbf65bff6\" y=\"224.251681\"/>\r\n     <use style=\"fill:#1f77b4;stroke:#1f77b4;\" x=\"35.780682\" xlink:href=\"#m5cbf65bff6\" y=\"225.354389\"/>\r\n     <use style=\"fill:#1f77b4;stroke:#1f77b4;\" x=\"35.780682\" xlink:href=\"#m5cbf65bff6\" y=\"211.523591\"/>\r\n     <use style=\"fill:#1f77b4;stroke:#1f77b4;\" x=\"35.780682\" xlink:href=\"#m5cbf65bff6\" y=\"219.894503\"/>\r\n     <use style=\"fill:#1f77b4;stroke:#1f77b4;\" x=\"35.780682\" xlink:href=\"#m5cbf65bff6\" y=\"216.971197\"/>\r\n     <use style=\"fill:#1f77b4;stroke:#1f77b4;\" x=\"35.780682\" xlink:href=\"#m5cbf65bff6\" y=\"212.314429\"/>\r\n     <use style=\"fill:#1f77b4;stroke:#1f77b4;\" x=\"35.780682\" xlink:href=\"#m5cbf65bff6\" y=\"215.436756\"/>\r\n     <use style=\"fill:#1f77b4;stroke:#1f77b4;\" x=\"35.780682\" xlink:href=\"#m5cbf65bff6\" y=\"212.99037\"/>\r\n     <use style=\"fill:#1f77b4;stroke:#1f77b4;\" x=\"35.780682\" xlink:href=\"#m5cbf65bff6\" y=\"221.131976\"/>\r\n     <use style=\"fill:#1f77b4;stroke:#1f77b4;\" x=\"35.780682\" xlink:href=\"#m5cbf65bff6\" y=\"213.54351\"/>\r\n     <use style=\"fill:#1f77b4;stroke:#1f77b4;\" x=\"35.780682\" xlink:href=\"#m5cbf65bff6\" y=\"215.354791\"/>\r\n     <use style=\"fill:#1f77b4;stroke:#1f77b4;\" x=\"35.780682\" xlink:href=\"#m5cbf65bff6\" y=\"225.345869\"/>\r\n     <use style=\"fill:#1f77b4;stroke:#1f77b4;\" x=\"35.780682\" xlink:href=\"#m5cbf65bff6\" y=\"225.212649\"/>\r\n     <use style=\"fill:#1f77b4;stroke:#1f77b4;\" x=\"35.780682\" xlink:href=\"#m5cbf65bff6\" y=\"220.160297\"/>\r\n     <use style=\"fill:#1f77b4;stroke:#1f77b4;\" x=\"35.780682\" xlink:href=\"#m5cbf65bff6\" y=\"223.609776\"/>\r\n     <use style=\"fill:#1f77b4;stroke:#1f77b4;\" x=\"35.780682\" xlink:href=\"#m5cbf65bff6\" y=\"219.867059\"/>\r\n     <use style=\"fill:#1f77b4;stroke:#1f77b4;\" x=\"35.780682\" xlink:href=\"#m5cbf65bff6\" y=\"214.794837\"/>\r\n     <use style=\"fill:#1f77b4;stroke:#1f77b4;\" x=\"35.780682\" xlink:href=\"#m5cbf65bff6\" y=\"212.197506\"/>\r\n     <use style=\"fill:#1f77b4;stroke:#1f77b4;\" x=\"35.780682\" xlink:href=\"#m5cbf65bff6\" y=\"218.759392\"/>\r\n     <use style=\"fill:#1f77b4;stroke:#1f77b4;\" x=\"35.780682\" xlink:href=\"#m5cbf65bff6\" y=\"214.886433\"/>\r\n     <use style=\"fill:#1f77b4;stroke:#1f77b4;\" x=\"35.780682\" xlink:href=\"#m5cbf65bff6\" y=\"215.937156\"/>\r\n     <use style=\"fill:#1f77b4;stroke:#1f77b4;\" x=\"35.780682\" xlink:href=\"#m5cbf65bff6\" y=\"193.969158\"/>\r\n     <use style=\"fill:#1f77b4;stroke:#1f77b4;\" x=\"35.780682\" xlink:href=\"#m5cbf65bff6\" y=\"216.002565\"/>\r\n     <use style=\"fill:#1f77b4;stroke:#1f77b4;\" x=\"35.780682\" xlink:href=\"#m5cbf65bff6\" y=\"212.892022\"/>\r\n     <use style=\"fill:#1f77b4;stroke:#1f77b4;\" x=\"35.780682\" xlink:href=\"#m5cbf65bff6\" y=\"198.938051\"/>\r\n     <use style=\"fill:#1f77b4;stroke:#1f77b4;\" x=\"35.780682\" xlink:href=\"#m5cbf65bff6\" y=\"209.984959\"/>\r\n     <use style=\"fill:#1f77b4;stroke:#1f77b4;\" x=\"35.780682\" xlink:href=\"#m5cbf65bff6\" y=\"217.3362\"/>\r\n     <use style=\"fill:#1f77b4;stroke:#1f77b4;\" x=\"35.780682\" xlink:href=\"#m5cbf65bff6\" y=\"222.275565\"/>\r\n     <use style=\"fill:#1f77b4;stroke:#1f77b4;\" x=\"35.780682\" xlink:href=\"#m5cbf65bff6\" y=\"225.327985\"/>\r\n     <use style=\"fill:#1f77b4;stroke:#1f77b4;\" x=\"35.780682\" xlink:href=\"#m5cbf65bff6\" y=\"217.132136\"/>\r\n     <use style=\"fill:#1f77b4;stroke:#1f77b4;\" x=\"35.780682\" xlink:href=\"#m5cbf65bff6\" y=\"199.196165\"/>\r\n     <use style=\"fill:#1f77b4;stroke:#1f77b4;\" x=\"35.780682\" xlink:href=\"#m5cbf65bff6\" y=\"190.886348\"/>\r\n     <use style=\"fill:#1f77b4;stroke:#1f77b4;\" x=\"35.780682\" xlink:href=\"#m5cbf65bff6\" y=\"205.593218\"/>\r\n     <use style=\"fill:#1f77b4;stroke:#1f77b4;\" x=\"35.780682\" xlink:href=\"#m5cbf65bff6\" y=\"225.354801\"/>\r\n     <use style=\"fill:#1f77b4;stroke:#1f77b4;\" x=\"35.780682\" xlink:href=\"#m5cbf65bff6\" y=\"27.682074\"/>\r\n     <use style=\"fill:#1f77b4;stroke:#1f77b4;\" x=\"35.780682\" xlink:href=\"#m5cbf65bff6\" y=\"225.338321\"/>\r\n     <use style=\"fill:#1f77b4;stroke:#1f77b4;\" x=\"35.780682\" xlink:href=\"#m5cbf65bff6\" y=\"225.354801\"/>\r\n     <use style=\"fill:#1f77b4;stroke:#1f77b4;\" x=\"35.780682\" xlink:href=\"#m5cbf65bff6\" y=\"189.904455\"/>\r\n     <use style=\"fill:#1f77b4;stroke:#1f77b4;\" x=\"35.780682\" xlink:href=\"#m5cbf65bff6\" y=\"193.687511\"/>\r\n     <use style=\"fill:#1f77b4;stroke:#1f77b4;\" x=\"35.780682\" xlink:href=\"#m5cbf65bff6\" y=\"216.337696\"/>\r\n     <use style=\"fill:#1f77b4;stroke:#1f77b4;\" x=\"35.780682\" xlink:href=\"#m5cbf65bff6\" y=\"224.878398\"/>\r\n     <use style=\"fill:#1f77b4;stroke:#1f77b4;\" x=\"35.780682\" xlink:href=\"#m5cbf65bff6\" y=\"207.770872\"/>\r\n     <use style=\"fill:#1f77b4;stroke:#1f77b4;\" x=\"35.780682\" xlink:href=\"#m5cbf65bff6\" y=\"150.29218\"/>\r\n     <use style=\"fill:#1f77b4;stroke:#1f77b4;\" x=\"35.780682\" xlink:href=\"#m5cbf65bff6\" y=\"45.335379\"/>\r\n     <use style=\"fill:#1f77b4;stroke:#1f77b4;\" x=\"35.780682\" xlink:href=\"#m5cbf65bff6\" y=\"220.764\"/>\r\n     <use style=\"fill:#1f77b4;stroke:#1f77b4;\" x=\"35.780682\" xlink:href=\"#m5cbf65bff6\" y=\"210.185872\"/>\r\n     <use style=\"fill:#1f77b4;stroke:#1f77b4;\" x=\"35.780682\" xlink:href=\"#m5cbf65bff6\" y=\"222.022641\"/>\r\n     <use style=\"fill:#1f77b4;stroke:#1f77b4;\" x=\"35.780682\" xlink:href=\"#m5cbf65bff6\" y=\"225.354801\"/>\r\n     <use style=\"fill:#1f77b4;stroke:#1f77b4;\" x=\"35.780682\" xlink:href=\"#m5cbf65bff6\" y=\"217.674808\"/>\r\n     <use style=\"fill:#1f77b4;stroke:#1f77b4;\" x=\"35.780682\" xlink:href=\"#m5cbf65bff6\" y=\"216.297269\"/>\r\n     <use style=\"fill:#1f77b4;stroke:#1f77b4;\" x=\"35.780682\" xlink:href=\"#m5cbf65bff6\" y=\"207.15247\"/>\r\n     <use style=\"fill:#1f77b4;stroke:#1f77b4;\" x=\"35.780682\" xlink:href=\"#m5cbf65bff6\" y=\"225.309468\"/>\r\n     <use style=\"fill:#1f77b4;stroke:#1f77b4;\" x=\"35.780682\" xlink:href=\"#m5cbf65bff6\" y=\"206.752156\"/>\r\n     <use style=\"fill:#1f77b4;stroke:#1f77b4;\" x=\"35.780682\" xlink:href=\"#m5cbf65bff6\" y=\"225.354801\"/>\r\n     <use style=\"fill:#1f77b4;stroke:#1f77b4;\" x=\"35.780682\" xlink:href=\"#m5cbf65bff6\" y=\"216.858518\"/>\r\n     <use style=\"fill:#1f77b4;stroke:#1f77b4;\" x=\"35.780682\" xlink:href=\"#m5cbf65bff6\" y=\"210.576287\"/>\r\n     <use style=\"fill:#1f77b4;stroke:#1f77b4;\" x=\"35.780682\" xlink:href=\"#m5cbf65bff6\" y=\"204.31132\"/>\r\n     <use style=\"fill:#1f77b4;stroke:#1f77b4;\" x=\"35.780682\" xlink:href=\"#m5cbf65bff6\" y=\"224.875268\"/>\r\n     <use style=\"fill:#1f77b4;stroke:#1f77b4;\" x=\"35.780682\" xlink:href=\"#m5cbf65bff6\" y=\"186.5854\"/>\r\n     <use style=\"fill:#1f77b4;stroke:#1f77b4;\" x=\"35.780682\" xlink:href=\"#m5cbf65bff6\" y=\"211.196263\"/>\r\n     <use style=\"fill:#1f77b4;stroke:#1f77b4;\" x=\"35.780682\" xlink:href=\"#m5cbf65bff6\" y=\"200.618031\"/>\r\n     <use style=\"fill:#1f77b4;stroke:#1f77b4;\" x=\"35.780682\" xlink:href=\"#m5cbf65bff6\" y=\"209.262252\"/>\r\n     <use style=\"fill:#1f77b4;stroke:#1f77b4;\" x=\"35.780682\" xlink:href=\"#m5cbf65bff6\" y=\"219.694127\"/>\r\n     <use style=\"fill:#1f77b4;stroke:#1f77b4;\" x=\"35.780682\" xlink:href=\"#m5cbf65bff6\" y=\"197.280524\"/>\r\n     <use style=\"fill:#1f77b4;stroke:#1f77b4;\" x=\"35.780682\" xlink:href=\"#m5cbf65bff6\" y=\"225.354801\"/>\r\n     <use style=\"fill:#1f77b4;stroke:#1f77b4;\" x=\"35.780682\" xlink:href=\"#m5cbf65bff6\" y=\"204.360415\"/>\r\n     <use style=\"fill:#1f77b4;stroke:#1f77b4;\" x=\"35.780682\" xlink:href=\"#m5cbf65bff6\" y=\"213.639028\"/>\r\n     <use style=\"fill:#1f77b4;stroke:#1f77b4;\" x=\"35.780682\" xlink:href=\"#m5cbf65bff6\" y=\"218.818138\"/>\r\n     <use style=\"fill:#1f77b4;stroke:#1f77b4;\" x=\"35.780682\" xlink:href=\"#m5cbf65bff6\" y=\"214.005926\"/>\r\n     <use style=\"fill:#1f77b4;stroke:#1f77b4;\" x=\"35.780682\" xlink:href=\"#m5cbf65bff6\" y=\"202.053765\"/>\r\n     <use style=\"fill:#1f77b4;stroke:#1f77b4;\" x=\"35.780682\" xlink:href=\"#m5cbf65bff6\" y=\"220.91954\"/>\r\n    </g>\r\n   </g>\r\n   <g id=\"matplotlib.axis_1\">\r\n    <g id=\"xtick_1\">\r\n     <g id=\"line2d_1\">\r\n      <defs>\r\n       <path d=\"M 0 0 \r\nL 0 3.5 \r\n\" id=\"m162a5fb9b3\" style=\"stroke:#000000;stroke-width:0.8;\"/>\r\n      </defs>\r\n      <g>\r\n       <use style=\"stroke:#000000;stroke-width:0.8;\" x=\"35.780682\" xlink:href=\"#m162a5fb9b3\" y=\"235.238437\"/>\r\n      </g>\r\n     </g>\r\n     <g id=\"text_1\">\r\n      <!-- 0.0 -->\r\n      <g transform=\"translate(27.829119 249.836875)scale(0.1 -0.1)\">\r\n       <defs>\r\n        <path d=\"M 31.78125 66.40625 \r\nQ 24.171875 66.40625 20.328125 58.90625 \r\nQ 16.5 51.421875 16.5 36.375 \r\nQ 16.5 21.390625 20.328125 13.890625 \r\nQ 24.171875 6.390625 31.78125 6.390625 \r\nQ 39.453125 6.390625 43.28125 13.890625 \r\nQ 47.125 21.390625 47.125 36.375 \r\nQ 47.125 51.421875 43.28125 58.90625 \r\nQ 39.453125 66.40625 31.78125 66.40625 \r\nz\r\nM 31.78125 74.21875 \r\nQ 44.046875 74.21875 50.515625 64.515625 \r\nQ 56.984375 54.828125 56.984375 36.375 \r\nQ 56.984375 17.96875 50.515625 8.265625 \r\nQ 44.046875 -1.421875 31.78125 -1.421875 \r\nQ 19.53125 -1.421875 13.0625 8.265625 \r\nQ 6.59375 17.96875 6.59375 36.375 \r\nQ 6.59375 54.828125 13.0625 64.515625 \r\nQ 19.53125 74.21875 31.78125 74.21875 \r\nz\r\n\" id=\"DejaVuSans-48\"/>\r\n        <path d=\"M 10.6875 12.40625 \r\nL 21 12.40625 \r\nL 21 0 \r\nL 10.6875 0 \r\nz\r\n\" id=\"DejaVuSans-46\"/>\r\n       </defs>\r\n       <use xlink:href=\"#DejaVuSans-48\"/>\r\n       <use x=\"63.623047\" xlink:href=\"#DejaVuSans-46\"/>\r\n       <use x=\"95.410156\" xlink:href=\"#DejaVuSans-48\"/>\r\n      </g>\r\n     </g>\r\n    </g>\r\n    <g id=\"xtick_2\">\r\n     <g id=\"line2d_2\">\r\n      <g>\r\n       <use style=\"stroke:#000000;stroke-width:0.8;\" x=\"96.653409\" xlink:href=\"#m162a5fb9b3\" y=\"235.238437\"/>\r\n      </g>\r\n     </g>\r\n     <g id=\"text_2\">\r\n      <!-- 0.2 -->\r\n      <g transform=\"translate(88.701847 249.836875)scale(0.1 -0.1)\">\r\n       <defs>\r\n        <path d=\"M 19.1875 8.296875 \r\nL 53.609375 8.296875 \r\nL 53.609375 0 \r\nL 7.328125 0 \r\nL 7.328125 8.296875 \r\nQ 12.9375 14.109375 22.625 23.890625 \r\nQ 32.328125 33.6875 34.8125 36.53125 \r\nQ 39.546875 41.84375 41.421875 45.53125 \r\nQ 43.3125 49.21875 43.3125 52.78125 \r\nQ 43.3125 58.59375 39.234375 62.25 \r\nQ 35.15625 65.921875 28.609375 65.921875 \r\nQ 23.96875 65.921875 18.8125 64.3125 \r\nQ 13.671875 62.703125 7.8125 59.421875 \r\nL 7.8125 69.390625 \r\nQ 13.765625 71.78125 18.9375 73 \r\nQ 24.125 74.21875 28.421875 74.21875 \r\nQ 39.75 74.21875 46.484375 68.546875 \r\nQ 53.21875 62.890625 53.21875 53.421875 \r\nQ 53.21875 48.921875 51.53125 44.890625 \r\nQ 49.859375 40.875 45.40625 35.40625 \r\nQ 44.1875 33.984375 37.640625 27.21875 \r\nQ 31.109375 20.453125 19.1875 8.296875 \r\nz\r\n\" id=\"DejaVuSans-50\"/>\r\n       </defs>\r\n       <use xlink:href=\"#DejaVuSans-48\"/>\r\n       <use x=\"63.623047\" xlink:href=\"#DejaVuSans-46\"/>\r\n       <use x=\"95.410156\" xlink:href=\"#DejaVuSans-50\"/>\r\n      </g>\r\n     </g>\r\n    </g>\r\n    <g id=\"xtick_3\">\r\n     <g id=\"line2d_3\">\r\n      <g>\r\n       <use style=\"stroke:#000000;stroke-width:0.8;\" x=\"157.526136\" xlink:href=\"#m162a5fb9b3\" y=\"235.238437\"/>\r\n      </g>\r\n     </g>\r\n     <g id=\"text_3\">\r\n      <!-- 0.4 -->\r\n      <g transform=\"translate(149.574574 249.836875)scale(0.1 -0.1)\">\r\n       <defs>\r\n        <path d=\"M 37.796875 64.3125 \r\nL 12.890625 25.390625 \r\nL 37.796875 25.390625 \r\nz\r\nM 35.203125 72.90625 \r\nL 47.609375 72.90625 \r\nL 47.609375 25.390625 \r\nL 58.015625 25.390625 \r\nL 58.015625 17.1875 \r\nL 47.609375 17.1875 \r\nL 47.609375 0 \r\nL 37.796875 0 \r\nL 37.796875 17.1875 \r\nL 4.890625 17.1875 \r\nL 4.890625 26.703125 \r\nz\r\n\" id=\"DejaVuSans-52\"/>\r\n       </defs>\r\n       <use xlink:href=\"#DejaVuSans-48\"/>\r\n       <use x=\"63.623047\" xlink:href=\"#DejaVuSans-46\"/>\r\n       <use x=\"95.410156\" xlink:href=\"#DejaVuSans-52\"/>\r\n      </g>\r\n     </g>\r\n    </g>\r\n    <g id=\"xtick_4\">\r\n     <g id=\"line2d_4\">\r\n      <g>\r\n       <use style=\"stroke:#000000;stroke-width:0.8;\" x=\"218.398864\" xlink:href=\"#m162a5fb9b3\" y=\"235.238437\"/>\r\n      </g>\r\n     </g>\r\n     <g id=\"text_4\">\r\n      <!-- 0.6 -->\r\n      <g transform=\"translate(210.447301 249.836875)scale(0.1 -0.1)\">\r\n       <defs>\r\n        <path d=\"M 33.015625 40.375 \r\nQ 26.375 40.375 22.484375 35.828125 \r\nQ 18.609375 31.296875 18.609375 23.390625 \r\nQ 18.609375 15.53125 22.484375 10.953125 \r\nQ 26.375 6.390625 33.015625 6.390625 \r\nQ 39.65625 6.390625 43.53125 10.953125 \r\nQ 47.40625 15.53125 47.40625 23.390625 \r\nQ 47.40625 31.296875 43.53125 35.828125 \r\nQ 39.65625 40.375 33.015625 40.375 \r\nz\r\nM 52.59375 71.296875 \r\nL 52.59375 62.3125 \r\nQ 48.875 64.0625 45.09375 64.984375 \r\nQ 41.3125 65.921875 37.59375 65.921875 \r\nQ 27.828125 65.921875 22.671875 59.328125 \r\nQ 17.53125 52.734375 16.796875 39.40625 \r\nQ 19.671875 43.65625 24.015625 45.921875 \r\nQ 28.375 48.1875 33.59375 48.1875 \r\nQ 44.578125 48.1875 50.953125 41.515625 \r\nQ 57.328125 34.859375 57.328125 23.390625 \r\nQ 57.328125 12.15625 50.6875 5.359375 \r\nQ 44.046875 -1.421875 33.015625 -1.421875 \r\nQ 20.359375 -1.421875 13.671875 8.265625 \r\nQ 6.984375 17.96875 6.984375 36.375 \r\nQ 6.984375 53.65625 15.1875 63.9375 \r\nQ 23.390625 74.21875 37.203125 74.21875 \r\nQ 40.921875 74.21875 44.703125 73.484375 \r\nQ 48.484375 72.75 52.59375 71.296875 \r\nz\r\n\" id=\"DejaVuSans-54\"/>\r\n       </defs>\r\n       <use xlink:href=\"#DejaVuSans-48\"/>\r\n       <use x=\"63.623047\" xlink:href=\"#DejaVuSans-46\"/>\r\n       <use x=\"95.410156\" xlink:href=\"#DejaVuSans-54\"/>\r\n      </g>\r\n     </g>\r\n    </g>\r\n    <g id=\"xtick_5\">\r\n     <g id=\"line2d_5\">\r\n      <g>\r\n       <use style=\"stroke:#000000;stroke-width:0.8;\" x=\"279.271591\" xlink:href=\"#m162a5fb9b3\" y=\"235.238437\"/>\r\n      </g>\r\n     </g>\r\n     <g id=\"text_5\">\r\n      <!-- 0.8 -->\r\n      <g transform=\"translate(271.320028 249.836875)scale(0.1 -0.1)\">\r\n       <defs>\r\n        <path d=\"M 31.78125 34.625 \r\nQ 24.75 34.625 20.71875 30.859375 \r\nQ 16.703125 27.09375 16.703125 20.515625 \r\nQ 16.703125 13.921875 20.71875 10.15625 \r\nQ 24.75 6.390625 31.78125 6.390625 \r\nQ 38.8125 6.390625 42.859375 10.171875 \r\nQ 46.921875 13.96875 46.921875 20.515625 \r\nQ 46.921875 27.09375 42.890625 30.859375 \r\nQ 38.875 34.625 31.78125 34.625 \r\nz\r\nM 21.921875 38.8125 \r\nQ 15.578125 40.375 12.03125 44.71875 \r\nQ 8.5 49.078125 8.5 55.328125 \r\nQ 8.5 64.0625 14.71875 69.140625 \r\nQ 20.953125 74.21875 31.78125 74.21875 \r\nQ 42.671875 74.21875 48.875 69.140625 \r\nQ 55.078125 64.0625 55.078125 55.328125 \r\nQ 55.078125 49.078125 51.53125 44.71875 \r\nQ 48 40.375 41.703125 38.8125 \r\nQ 48.828125 37.15625 52.796875 32.3125 \r\nQ 56.78125 27.484375 56.78125 20.515625 \r\nQ 56.78125 9.90625 50.3125 4.234375 \r\nQ 43.84375 -1.421875 31.78125 -1.421875 \r\nQ 19.734375 -1.421875 13.25 4.234375 \r\nQ 6.78125 9.90625 6.78125 20.515625 \r\nQ 6.78125 27.484375 10.78125 32.3125 \r\nQ 14.796875 37.15625 21.921875 38.8125 \r\nz\r\nM 18.3125 54.390625 \r\nQ 18.3125 48.734375 21.84375 45.5625 \r\nQ 25.390625 42.390625 31.78125 42.390625 \r\nQ 38.140625 42.390625 41.71875 45.5625 \r\nQ 45.3125 48.734375 45.3125 54.390625 \r\nQ 45.3125 60.0625 41.71875 63.234375 \r\nQ 38.140625 66.40625 31.78125 66.40625 \r\nQ 25.390625 66.40625 21.84375 63.234375 \r\nQ 18.3125 60.0625 18.3125 54.390625 \r\nz\r\n\" id=\"DejaVuSans-56\"/>\r\n       </defs>\r\n       <use xlink:href=\"#DejaVuSans-48\"/>\r\n       <use x=\"63.623047\" xlink:href=\"#DejaVuSans-46\"/>\r\n       <use x=\"95.410156\" xlink:href=\"#DejaVuSans-56\"/>\r\n      </g>\r\n     </g>\r\n    </g>\r\n    <g id=\"xtick_6\">\r\n     <g id=\"line2d_6\">\r\n      <g>\r\n       <use style=\"stroke:#000000;stroke-width:0.8;\" x=\"340.144318\" xlink:href=\"#m162a5fb9b3\" y=\"235.238437\"/>\r\n      </g>\r\n     </g>\r\n     <g id=\"text_6\">\r\n      <!-- 1.0 -->\r\n      <g transform=\"translate(332.192756 249.836875)scale(0.1 -0.1)\">\r\n       <defs>\r\n        <path d=\"M 12.40625 8.296875 \r\nL 28.515625 8.296875 \r\nL 28.515625 63.921875 \r\nL 10.984375 60.40625 \r\nL 10.984375 69.390625 \r\nL 28.421875 72.90625 \r\nL 38.28125 72.90625 \r\nL 38.28125 8.296875 \r\nL 54.390625 8.296875 \r\nL 54.390625 0 \r\nL 12.40625 0 \r\nz\r\n\" id=\"DejaVuSans-49\"/>\r\n       </defs>\r\n       <use xlink:href=\"#DejaVuSans-49\"/>\r\n       <use x=\"63.623047\" xlink:href=\"#DejaVuSans-46\"/>\r\n       <use x=\"95.410156\" xlink:href=\"#DejaVuSans-48\"/>\r\n      </g>\r\n     </g>\r\n    </g>\r\n   </g>\r\n   <g id=\"matplotlib.axis_2\">\r\n    <g id=\"ytick_1\">\r\n     <g id=\"line2d_7\">\r\n      <defs>\r\n       <path d=\"M 0 0 \r\nL -3.5 0 \r\n\" id=\"me0ff71b7af\" style=\"stroke:#000000;stroke-width:0.8;\"/>\r\n      </defs>\r\n      <g>\r\n       <use style=\"stroke:#000000;stroke-width:0.8;\" x=\"20.5625\" xlink:href=\"#me0ff71b7af\" y=\"225.354801\"/>\r\n      </g>\r\n     </g>\r\n     <g id=\"text_7\">\r\n      <!-- 0 -->\r\n      <g transform=\"translate(7.2 229.15402)scale(0.1 -0.1)\">\r\n       <use xlink:href=\"#DejaVuSans-48\"/>\r\n      </g>\r\n     </g>\r\n    </g>\r\n    <g id=\"ytick_2\">\r\n     <g id=\"line2d_8\">\r\n      <g>\r\n       <use style=\"stroke:#000000;stroke-width:0.8;\" x=\"20.5625\" xlink:href=\"#me0ff71b7af\" y=\"180.432828\"/>\r\n      </g>\r\n     </g>\r\n     <g id=\"text_8\">\r\n      <!-- 1 -->\r\n      <g transform=\"translate(7.2 184.232046)scale(0.1 -0.1)\">\r\n       <use xlink:href=\"#DejaVuSans-49\"/>\r\n      </g>\r\n     </g>\r\n    </g>\r\n    <g id=\"ytick_3\">\r\n     <g id=\"line2d_9\">\r\n      <g>\r\n       <use style=\"stroke:#000000;stroke-width:0.8;\" x=\"20.5625\" xlink:href=\"#me0ff71b7af\" y=\"135.510854\"/>\r\n      </g>\r\n     </g>\r\n     <g id=\"text_9\">\r\n      <!-- 2 -->\r\n      <g transform=\"translate(7.2 139.310073)scale(0.1 -0.1)\">\r\n       <use xlink:href=\"#DejaVuSans-50\"/>\r\n      </g>\r\n     </g>\r\n    </g>\r\n    <g id=\"ytick_4\">\r\n     <g id=\"line2d_10\">\r\n      <g>\r\n       <use style=\"stroke:#000000;stroke-width:0.8;\" x=\"20.5625\" xlink:href=\"#me0ff71b7af\" y=\"90.588881\"/>\r\n      </g>\r\n     </g>\r\n     <g id=\"text_10\">\r\n      <!-- 3 -->\r\n      <g transform=\"translate(7.2 94.3881)scale(0.1 -0.1)\">\r\n       <defs>\r\n        <path d=\"M 40.578125 39.3125 \r\nQ 47.65625 37.796875 51.625 33 \r\nQ 55.609375 28.21875 55.609375 21.1875 \r\nQ 55.609375 10.40625 48.1875 4.484375 \r\nQ 40.765625 -1.421875 27.09375 -1.421875 \r\nQ 22.515625 -1.421875 17.65625 -0.515625 \r\nQ 12.796875 0.390625 7.625 2.203125 \r\nL 7.625 11.71875 \r\nQ 11.71875 9.328125 16.59375 8.109375 \r\nQ 21.484375 6.890625 26.8125 6.890625 \r\nQ 36.078125 6.890625 40.9375 10.546875 \r\nQ 45.796875 14.203125 45.796875 21.1875 \r\nQ 45.796875 27.640625 41.28125 31.265625 \r\nQ 36.765625 34.90625 28.71875 34.90625 \r\nL 20.21875 34.90625 \r\nL 20.21875 43.015625 \r\nL 29.109375 43.015625 \r\nQ 36.375 43.015625 40.234375 45.921875 \r\nQ 44.09375 48.828125 44.09375 54.296875 \r\nQ 44.09375 59.90625 40.109375 62.90625 \r\nQ 36.140625 65.921875 28.71875 65.921875 \r\nQ 24.65625 65.921875 20.015625 65.03125 \r\nQ 15.375 64.15625 9.8125 62.3125 \r\nL 9.8125 71.09375 \r\nQ 15.4375 72.65625 20.34375 73.4375 \r\nQ 25.25 74.21875 29.59375 74.21875 \r\nQ 40.828125 74.21875 47.359375 69.109375 \r\nQ 53.90625 64.015625 53.90625 55.328125 \r\nQ 53.90625 49.265625 50.4375 45.09375 \r\nQ 46.96875 40.921875 40.578125 39.3125 \r\nz\r\n\" id=\"DejaVuSans-51\"/>\r\n       </defs>\r\n       <use xlink:href=\"#DejaVuSans-51\"/>\r\n      </g>\r\n     </g>\r\n    </g>\r\n    <g id=\"ytick_5\">\r\n     <g id=\"line2d_11\">\r\n      <g>\r\n       <use style=\"stroke:#000000;stroke-width:0.8;\" x=\"20.5625\" xlink:href=\"#me0ff71b7af\" y=\"45.666907\"/>\r\n      </g>\r\n     </g>\r\n     <g id=\"text_11\">\r\n      <!-- 4 -->\r\n      <g transform=\"translate(7.2 49.466126)scale(0.1 -0.1)\">\r\n       <use xlink:href=\"#DejaVuSans-52\"/>\r\n      </g>\r\n     </g>\r\n    </g>\r\n    <g id=\"text_12\">\r\n     <!-- 1e8 -->\r\n     <g transform=\"translate(20.5625 14.798437)scale(0.1 -0.1)\">\r\n      <defs>\r\n       <path d=\"M 56.203125 29.59375 \r\nL 56.203125 25.203125 \r\nL 14.890625 25.203125 \r\nQ 15.484375 15.921875 20.484375 11.0625 \r\nQ 25.484375 6.203125 34.421875 6.203125 \r\nQ 39.59375 6.203125 44.453125 7.46875 \r\nQ 49.3125 8.734375 54.109375 11.28125 \r\nL 54.109375 2.78125 \r\nQ 49.265625 0.734375 44.1875 -0.34375 \r\nQ 39.109375 -1.421875 33.890625 -1.421875 \r\nQ 20.796875 -1.421875 13.15625 6.1875 \r\nQ 5.515625 13.8125 5.515625 26.8125 \r\nQ 5.515625 40.234375 12.765625 48.109375 \r\nQ 20.015625 56 32.328125 56 \r\nQ 43.359375 56 49.78125 48.890625 \r\nQ 56.203125 41.796875 56.203125 29.59375 \r\nz\r\nM 47.21875 32.234375 \r\nQ 47.125 39.59375 43.09375 43.984375 \r\nQ 39.0625 48.390625 32.421875 48.390625 \r\nQ 24.90625 48.390625 20.390625 44.140625 \r\nQ 15.875 39.890625 15.1875 32.171875 \r\nz\r\n\" id=\"DejaVuSans-101\"/>\r\n      </defs>\r\n      <use xlink:href=\"#DejaVuSans-49\"/>\r\n      <use x=\"63.623047\" xlink:href=\"#DejaVuSans-101\"/>\r\n      <use x=\"125.146484\" xlink:href=\"#DejaVuSans-56\"/>\r\n     </g>\r\n    </g>\r\n   </g>\r\n   <g id=\"patch_3\">\r\n    <path d=\"M 20.5625 235.238437 \r\nL 20.5625 17.798437 \r\n\" style=\"fill:none;stroke:#000000;stroke-linecap:square;stroke-linejoin:miter;stroke-width:0.8;\"/>\r\n   </g>\r\n   <g id=\"patch_4\">\r\n    <path d=\"M 355.3625 235.238437 \r\nL 355.3625 17.798437 \r\n\" style=\"fill:none;stroke:#000000;stroke-linecap:square;stroke-linejoin:miter;stroke-width:0.8;\"/>\r\n   </g>\r\n   <g id=\"patch_5\">\r\n    <path d=\"M 20.5625 235.238437 \r\nL 355.3625 235.238437 \r\n\" style=\"fill:none;stroke:#000000;stroke-linecap:square;stroke-linejoin:miter;stroke-width:0.8;\"/>\r\n   </g>\r\n   <g id=\"patch_6\">\r\n    <path d=\"M 20.5625 17.798437 \r\nL 355.3625 17.798437 \r\n\" style=\"fill:none;stroke:#000000;stroke-linecap:square;stroke-linejoin:miter;stroke-width:0.8;\"/>\r\n   </g>\r\n  </g>\r\n </g>\r\n <defs>\r\n  <clipPath id=\"p087e982ca5\">\r\n   <rect height=\"217.44\" width=\"334.8\" x=\"20.5625\" y=\"17.798437\"/>\r\n  </clipPath>\r\n </defs>\r\n</svg>\r\n",
      "image/png": "[encoded data removed]"
     },
     "metadata": {
      "needs_background": "light"
     }
    }
   ],
   "source": [
    "plt.scatter(movie_title.Adventure, movie_title.domestic_gross)#If genre is equal to 1 append to a list"
   ]
  },
  {
   "cell_type": "code",
   "execution_count": 72,
   "metadata": {},
   "outputs": [
    {
     "output_type": "execute_result",
     "data": {
      "text/plain": [
       "14"
      ]
     },
     "metadata": {},
     "execution_count": 72
    }
   ],
   "source": [
    "(movie_title.Musical == 1).sum(axis=0)\n"
   ]
  },
  {
   "cell_type": "code",
   "execution_count": null,
   "metadata": {},
   "outputs": [],
   "source": []
  },
  {
   "cell_type": "code",
   "execution_count": null,
   "metadata": {},
   "outputs": [],
   "source": []
  },
  {
   "cell_type": "code",
   "execution_count": null,
   "metadata": {},
   "outputs": [],
   "source": []
  },
  {
   "cell_type": "markdown",
   "metadata": {},
   "source": [
    "![movies.db schema](images/movies_db_schema.png)"
   ]
  },
  {
   "cell_type": "code",
   "execution_count": 116,
   "metadata": {},
   "outputs": [
    {
     "output_type": "execute_result",
     "data": {
      "text/plain": [
       "                                                  genres\n",
       "0      Action & Adventure, Comedy, Drama, Science Fic...\n",
       "1                                                 Comedy\n",
       "2                                        Comedy, Romance\n",
       "3                                        Classics, Drama\n",
       "4               Action & Adventure, Drama, Kids & Family\n",
       "...                                                  ...\n",
       "17707                   Drama, Musical & Performing Arts\n",
       "17708              Action & Adventure, Animation, Comedy\n",
       "17709  Action & Adventure, Art House & International,...\n",
       "17710                                    Classics, Drama\n",
       "17711  Action & Adventure, Art House & International,...\n",
       "\n",
       "[17712 rows x 1 columns]"
      ],
      "text/html": "<div>\n<style scoped>\n    .dataframe tbody tr th:only-of-type {\n        vertical-align: middle;\n    }\n\n    .dataframe tbody tr th {\n        vertical-align: top;\n    }\n\n    .dataframe thead th {\n        text-align: right;\n    }\n</style>\n<table border=\"1\" class=\"dataframe\">\n  <thead>\n    <tr style=\"text-align: right;\">\n      <th></th>\n      <th>genres</th>\n    </tr>\n  </thead>\n  <tbody>\n    <tr>\n      <th>0</th>\n      <td>Action &amp; Adventure, Comedy, Drama, Science Fic...</td>\n    </tr>\n    <tr>\n      <th>1</th>\n      <td>Comedy</td>\n    </tr>\n    <tr>\n      <th>2</th>\n      <td>Comedy, Romance</td>\n    </tr>\n    <tr>\n      <th>3</th>\n      <td>Classics, Drama</td>\n    </tr>\n    <tr>\n      <th>4</th>\n      <td>Action &amp; Adventure, Drama, Kids &amp; Family</td>\n    </tr>\n    <tr>\n      <th>...</th>\n      <td>...</td>\n    </tr>\n    <tr>\n      <th>17707</th>\n      <td>Drama, Musical &amp; Performing Arts</td>\n    </tr>\n    <tr>\n      <th>17708</th>\n      <td>Action &amp; Adventure, Animation, Comedy</td>\n    </tr>\n    <tr>\n      <th>17709</th>\n      <td>Action &amp; Adventure, Art House &amp; International,...</td>\n    </tr>\n    <tr>\n      <th>17710</th>\n      <td>Classics, Drama</td>\n    </tr>\n    <tr>\n      <th>17711</th>\n      <td>Action &amp; Adventure, Art House &amp; International,...</td>\n    </tr>\n  </tbody>\n</table>\n<p>17712 rows × 1 columns</p>\n</div>"
     },
     "metadata": {},
     "execution_count": 116
    }
   ],
   "source": [
    "conn = sqlite3.connect('data\\movies.db')\n",
    "movie_title2 = pd.read_sql ('''SELECT genres FROM rotten_tomatoes_movies ''',conn)\n",
    "\n",
    "movie_title2"
   ]
  },
  {
   "cell_type": "code",
   "execution_count": null,
   "metadata": {},
   "outputs": [],
   "source": []
  }
 ],
 "metadata": {
  "kernelspec": {
   "name": "python385jvsc74a57bd08e152902236d0ddc17cab15fa4740f8c30870419133c500d5ccb5dc7eb029fd5",
   "display_name": "Python 3.8.5 64-bit ('learn-env': conda)"
  },
  "language_info": {
   "codemirror_mode": {
    "name": "ipython",
    "version": 3
   },
   "file_extension": ".py",
   "mimetype": "text/x-python",
   "name": "python",
   "nbconvert_exporter": "python",
   "pygments_lexer": "ipython3",
   "version": "3.8.5"
  },
  "toc": {
   "base_numbering": 1,
   "nav_menu": {},
   "number_sections": false,
   "sideBar": true,
   "skip_h1_title": false,
   "title_cell": "Table of Contents",
   "title_sidebar": "Contents",
   "toc_cell": false,
   "toc_position": {},
   "toc_section_display": true,
   "toc_window_display": true
  },
  "metadata": {
   "interpreter": {
    "hash": "3e4b7296bcf7107592fe3786d118e7d736cf1e2d17f08606f93eeea3963787ff"
   }
  }
 },
 "nbformat": 4,
 "nbformat_minor": 2
}